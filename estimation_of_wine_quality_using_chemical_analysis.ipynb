{
  "nbformat": 4,
  "nbformat_minor": 0,
  "metadata": {
    "colab": {
      "name": "estimation-of-wine-quality-using-chemical-analysis.ipynb",
      "provenance": [],
      "collapsed_sections": [],
      "toc_visible": true,
      "include_colab_link": true
    },
    "kernelspec": {
      "display_name": "Python 3",
      "name": "python3"
    },
    "language_info": {
      "codemirror_mode": {
        "name": "ipython",
        "version": 3
      },
      "file_extension": ".py",
      "mimetype": "text/x-python",
      "name": "python",
      "nbconvert_exporter": "python",
      "pygments_lexer": "ipython3",
      "version": "3.6.6"
    }
  },
  "cells": [
    {
      "cell_type": "markdown",
      "metadata": {
        "id": "view-in-github",
        "colab_type": "text"
      },
      "source": [
        "<a href=\"https://colab.research.google.com/github/SaturdaysAI/Workshops/blob/main/estimation_of_wine_quality_using_chemical_analysis.ipynb\" target=\"_parent\"><img src=\"https://colab.research.google.com/assets/colab-badge.svg\" alt=\"Open In Colab\"/></a>"
      ]
    },
    {
      "cell_type": "markdown",
      "metadata": {
        "id": "wF1Ie1tD-DIK"
      },
      "source": [
        "# ESTIMATION OF WINE QUALITY USING THE CHEMICAL ANALYSIS DATA"
      ]
    },
    {
      "cell_type": "markdown",
      "metadata": {
        "id": "Kzd-e7JDEty6"
      },
      "source": [
        "**Introduction**"
      ]
    },
    {
      "cell_type": "markdown",
      "metadata": {
        "id": "O7h16Hf5-V8H"
      },
      "source": [
        "The wine quality determines the price of the wine. The quality is measured from every aspects such as the vintage, variety, type, place , the grape used, and or the various chemical analysis. Each type of wine has its own composition and taste. \n",
        "\n",
        "There are about five types of wine: Red wine, White wine, Rose wine, Sparkling wine and Fortified wine.Since there are various varieties and blends under each type, the quality estimation has become difficult. In this report, we want to derive a new method of estimating quality using chemical analysis.\n",
        "\n",
        "\n",
        "![alt text](https://i.pinimg.com/originals/f8/69/cc/f869cc87b2246a31b480630de573aede.png)\n"
      ]
    },
    {
      "cell_type": "markdown",
      "metadata": {
        "id": "dLEbVpfmE-nG"
      },
      "source": [
        "**Datasets**\n",
        "\n",
        "We have taken two datasets:\n",
        "\n",
        "1)  Wine Quality by: Paulo Cortez (Univ. Minho), Antonio Cerdeira, Fernando Almeida, Telmo Matos and Jose Reis (CVRVV) @ 2009\n",
        "\n",
        "\n",
        "[Wine chemical datasets]"
      ]
    },
    {
      "cell_type": "code",
      "metadata": {
        "id": "bj9zNw8PtRg7"
      },
      "source": [
        ""
      ],
      "execution_count": null,
      "outputs": []
    },
    {
      "cell_type": "code",
      "metadata": {
        "colab": {
          "base_uri": "https://localhost:8080/"
        },
        "id": "I_Mwn9pMBuaT",
        "outputId": "b6496be5-b459-4537-c12d-c44b20b6db46"
      },
      "source": [
        "import pandas as pd\n",
        "import numpy as np\n",
        "\n",
        "chemical1 = pd.read_csv('https://raw.githubusercontent.com/SaturdaysAI/Workshops/main/Chemistry/winequalityN.csv')\n",
        "print(chemical1.shape)\n",
        "chemical1.info()"
      ],
      "execution_count": null,
      "outputs": [
        {
          "output_type": "stream",
          "text": [
            "(6497, 13)\n",
            "<class 'pandas.core.frame.DataFrame'>\n",
            "RangeIndex: 6497 entries, 0 to 6496\n",
            "Data columns (total 13 columns):\n",
            " #   Column                Non-Null Count  Dtype  \n",
            "---  ------                --------------  -----  \n",
            " 0   type                  6497 non-null   object \n",
            " 1   fixed acidity         6487 non-null   float64\n",
            " 2   volatile acidity      6489 non-null   float64\n",
            " 3   citric acid           6494 non-null   float64\n",
            " 4   residual sugar        6495 non-null   float64\n",
            " 5   chlorides             6495 non-null   float64\n",
            " 6   free sulfur dioxide   6497 non-null   float64\n",
            " 7   total sulfur dioxide  6497 non-null   float64\n",
            " 8   density               6497 non-null   float64\n",
            " 9   pH                    6488 non-null   float64\n",
            " 10  sulphates             6493 non-null   float64\n",
            " 11  alcohol               6497 non-null   float64\n",
            " 12  quality               6497 non-null   int64  \n",
            "dtypes: float64(11), int64(1), object(1)\n",
            "memory usage: 660.0+ KB\n"
          ],
          "name": "stdout"
        }
      ]
    },
    {
      "cell_type": "markdown",
      "metadata": {
        "id": "I2_vmib5DE1X"
      },
      "source": [
        "2) Wine Review: The data was scraped from WineEnthusiast during the week of June 15th, 2017.\n",
        "\n",
        "[Wine review datasets]"
      ]
    },
    {
      "cell_type": "code",
      "metadata": {
        "colab": {
          "base_uri": "https://localhost:8080/"
        },
        "id": "staPQgjppzk6",
        "outputId": "7c109a4e-db9a-4593-9d9c-54edc2ec4bdf"
      },
      "source": [
        "!wget https://github.com/SaturdaysAI/Workshops/blob/main/Chemistry/winemag-data_first150k.csv.zip"
      ],
      "execution_count": null,
      "outputs": [
        {
          "output_type": "stream",
          "text": [
            "--2020-12-15 09:44:49--  https://github.com/SaturdaysAI/Workshops/blob/main/Chemistry/winemag-data_first150k.csv.zip\n",
            "Resolving github.com (github.com)... 192.30.255.113\n",
            "Connecting to github.com (github.com)|192.30.255.113|:443... connected.\n",
            "HTTP request sent, awaiting response... 404 Not Found\n",
            "2020-12-15 09:44:49 ERROR 404: Not Found.\n",
            "\n"
          ],
          "name": "stdout"
        }
      ]
    },
    {
      "cell_type": "code",
      "metadata": {
        "colab": {
          "base_uri": "https://localhost:8080/"
        },
        "id": "gsM_Cy3KrAWr",
        "outputId": "ab4cc2b0-07d2-4ae7-a67a-84a0334efbd6"
      },
      "source": [
        "!pwd\r\n",
        "!ls"
      ],
      "execution_count": null,
      "outputs": [
        {
          "output_type": "stream",
          "text": [
            "/content\n",
            "sample_data\n"
          ],
          "name": "stdout"
        }
      ]
    },
    {
      "cell_type": "code",
      "metadata": {
        "colab": {
          "base_uri": "https://localhost:8080/"
        },
        "id": "cM1F5uGE9Btm",
        "outputId": "3aaef16c-8fa2-4dc3-df87-02b2946ee80b"
      },
      "source": [
        "sensory1 = pd.read_csv('https://raw.githubusercontent.com/SaturdaysAI/Workshops/main/Chemistry/winemag-data_first150k.csv',engine='python', error_bad_lines=False)\n",
        "print(sensory1.shape)\n",
        "sensory1.info()"
      ],
      "execution_count": null,
      "outputs": [
        {
          "output_type": "stream",
          "text": [
            "(150930, 11)\n",
            "<class 'pandas.core.frame.DataFrame'>\n",
            "RangeIndex: 150930 entries, 0 to 150929\n",
            "Data columns (total 11 columns):\n",
            " #   Column       Non-Null Count   Dtype  \n",
            "---  ------       --------------   -----  \n",
            " 0   Unnamed: 0   150930 non-null  int64  \n",
            " 1   country      150925 non-null  object \n",
            " 2   description  150930 non-null  object \n",
            " 3   designation  105195 non-null  object \n",
            " 4   points       150930 non-null  int64  \n",
            " 5   price        137235 non-null  float64\n",
            " 6   province     150925 non-null  object \n",
            " 7   region_1     125870 non-null  object \n",
            " 8   region_2     60953 non-null   object \n",
            " 9   variety      150930 non-null  object \n",
            " 10  winery       150930 non-null  object \n",
            "dtypes: float64(1), int64(2), object(8)\n",
            "memory usage: 12.7+ MB\n"
          ],
          "name": "stdout"
        }
      ]
    },
    {
      "cell_type": "code",
      "metadata": {
        "colab": {
          "base_uri": "https://localhost:8080/"
        },
        "id": "6MMgGRViDvQs",
        "outputId": "f268a5dd-3f16-4134-e85a-24ea724684b8"
      },
      "source": [
        "sensory2 = pd.read_csv('https://raw.githubusercontent.com/SaturdaysAI/Workshops/main/Chemistry/winemag-data-130k-v2.csv', engine='python', error_bad_lines=False)\n",
        "print(sensory2.shape)\n",
        "sensory2.info()"
      ],
      "execution_count": null,
      "outputs": [
        {
          "output_type": "stream",
          "text": [
            "(129971, 14)\n",
            "<class 'pandas.core.frame.DataFrame'>\n",
            "RangeIndex: 129971 entries, 0 to 129970\n",
            "Data columns (total 14 columns):\n",
            " #   Column                 Non-Null Count   Dtype  \n",
            "---  ------                 --------------   -----  \n",
            " 0   Unnamed: 0             129971 non-null  int64  \n",
            " 1   country                129908 non-null  object \n",
            " 2   description            129971 non-null  object \n",
            " 3   designation            92506 non-null   object \n",
            " 4   points                 129971 non-null  int64  \n",
            " 5   price                  120975 non-null  float64\n",
            " 6   province               129908 non-null  object \n",
            " 7   region_1               108724 non-null  object \n",
            " 8   region_2               50511 non-null   object \n",
            " 9   taster_name            103727 non-null  object \n",
            " 10  taster_twitter_handle  98758 non-null   object \n",
            " 11  title                  129971 non-null  object \n",
            " 12  variety                129970 non-null  object \n",
            " 13  winery                 129971 non-null  object \n",
            "dtypes: float64(1), int64(2), object(11)\n",
            "memory usage: 13.9+ MB\n"
          ],
          "name": "stdout"
        }
      ]
    },
    {
      "cell_type": "markdown",
      "metadata": {
        "id": "UaIpHYqJFMX-"
      },
      "source": [
        "# Analysis of wine chemical dataset"
      ]
    },
    {
      "cell_type": "markdown",
      "metadata": {
        "id": "zCJ_v87-LxiW"
      },
      "source": [
        " First, we will divide the dataset for both white wine and red wine."
      ]
    },
    {
      "cell_type": "code",
      "metadata": {
        "colab": {
          "base_uri": "https://localhost:8080/",
          "height": 298
        },
        "id": "l_kKFWPkMos9",
        "outputId": "dd9658de-f6d9-4c23-9308-4fdee30b03bd"
      },
      "source": [
        "import matplotlib.pyplot as pit\n",
        "\n",
        "\n",
        "total = len(chemical1.index)\n",
        "white_wine = chemical1[chemical1['type']=='white']\n",
        "print(\"Percentage of white wine: \",(len(white_wine.index)/total)*100,\"%\")\n",
        "red_wine = chemical1[chemical1['type']=='red']\n",
        "print(\"Percentage of red wine: \",(len(red_wine.index)/total)*100,\"%\")\n",
        "\n",
        "pit.pie([len(white_wine.index),len(red_wine.index)], colors = ['#635e6b','#EF5350'], labels = ['white wine','red wine'],startangle=90)\n",
        "pit.title('Types in the wine chemical datasets')\n",
        "pit.show()"
      ],
      "execution_count": null,
      "outputs": [
        {
          "output_type": "stream",
          "text": [
            "Percentage of white wine:  75.38864091118978 %\n",
            "Percentage of red wine:  24.611359088810218 %\n"
          ],
          "name": "stdout"
        },
        {
          "output_type": "display_data",
          "data": {
            "image/png": "[encoded data removed]",
            "text/plain": [
              "<Figure size 432x288 with 1 Axes>"
            ]
          },
          "metadata": {
            "tags": []
          }
        }
      ]
    },
    {
      "cell_type": "markdown",
      "metadata": {
        "id": "gzPmtXuwPXUk"
      },
      "source": [
        "The number of wines in each quality point of both red and white wine are:"
      ]
    },
    {
      "cell_type": "code",
      "metadata": {
        "colab": {
          "base_uri": "https://localhost:8080/",
          "height": 842
        },
        "id": "73PleuVcPini",
        "outputId": "320c992c-a75e-48fa-c24b-b0e80aa26aab"
      },
      "source": [
        "from prettytable import PrettyTable\n",
        "\n",
        "labels = ['Quality 1','Quality 2','Quality 3','Quality 4','Quality 5','Quality 6','Quality 7','Quality 8','Quality 9','Quality 10']\n",
        "t = PrettyTable(['Quality', 'white wine', 'red wine'])\n",
        "values_white = []\n",
        "values_red = []\n",
        "for i in range(1,11):\n",
        "  values_white.append(len(white_wine[white_wine['quality']==i]))\n",
        "  values_red.append(len(red_wine[red_wine['quality']==i]))\n",
        "  t.add_row([i,len(white_wine[white_wine['quality']==i]),len(red_wine[red_wine['quality']==i])])\n",
        "\n",
        "print('Wines in each quality')\n",
        "print(t)\n",
        "\n",
        "colors_w = ['#fdf7ff','#f8f2ff','#f1ebfa','#e2ddec','#bfbac8','#a09ba9','#77727f','#635e6b','#433f4b','#221e29']\n",
        "colors_r = ['#FFEBEE','#FFCDD2','#EF9A9A','#E57373','#EF5350','#F44336','#E53935','#D32F2F','#C62828','#B71C1C']\n",
        "\n",
        "fig,(ax1,ax2)= pit.subplots(2,1)\n",
        "fig.set_size_inches(10,9)\n",
        "#ax1.pie(values_white, colors = colors_w, labels=labels, startangle=90)\n",
        "ax1.bar(labels, values_white)\n",
        "ax1.set_title('Number of white wines in each quality')\n",
        "ax1.legend()\n",
        "\n",
        "#ax2.pie(values_red, colors = colors_r, labels=labels, startangle=90)\n",
        "ax2.bar(labels, values_red)\n",
        "ax2.set_title('Number of white wines in each quality')\n",
        "ax2.set_title('Number of red wines in each quality')\n",
        "ax2.legend()\n",
        "\n",
        "pit.show()\n"
      ],
      "execution_count": null,
      "outputs": [
        {
          "output_type": "stream",
          "text": [
            "No handles with labels found to put in legend.\n",
            "No handles with labels found to put in legend.\n"
          ],
          "name": "stderr"
        },
        {
          "output_type": "stream",
          "text": [
            "Wines in each quality\n",
            "+---------+------------+----------+\n",
            "| Quality | white wine | red wine |\n",
            "+---------+------------+----------+\n",
            "|    1    |     0      |    0     |\n",
            "|    2    |     0      |    0     |\n",
            "|    3    |     20     |    10    |\n",
            "|    4    |    163     |    53    |\n",
            "|    5    |    1457    |   681    |\n",
            "|    6    |    2198    |   638    |\n",
            "|    7    |    880     |   199    |\n",
            "|    8    |    175     |    18    |\n",
            "|    9    |     5      |    0     |\n",
            "|    10   |     0      |    0     |\n",
            "+---------+------------+----------+\n"
          ],
          "name": "stdout"
        },
        {
          "output_type": "display_data",
          "data": {
            "image/png": "[encoded data removed]",
            "text/plain": [
              "<Figure size 720x648 with 2 Axes>"
            ]
          },
          "metadata": {
            "tags": [],
            "needs_background": "light"
          }
        }
      ]
    },
    {
      "cell_type": "markdown",
      "metadata": {
        "id": "q7wvvJkTMpgE"
      },
      "source": [
        "Let's analysis this data by finding the minimum and maximum value of each chemical attribute for every quality points both in the case of red and white wine."
      ]
    },
    {
      "cell_type": "code",
      "metadata": {
        "colab": {
          "base_uri": "https://localhost:8080/",
          "height": 1000
        },
        "id": "7u7r11sDdvHF",
        "outputId": "197bb11b-c37c-4305-96f6-e568f41bc181"
      },
      "source": [
        "import seaborn as sns\n",
        "\n",
        "feature_names = ['fixed acidity','volatile acidity', 'citric acid','residual sugar','chlorides','free sulfur dioxide','total sulfur dioxide','density','pH','sulphates','alcohol']\n",
        "\n",
        "def find_MIN_MAX(df,q):\n",
        "  print(\"quality: \", q)\n",
        "  if(df.empty):\n",
        "    print('no datasets')\n",
        "    return\n",
        "  else:\n",
        "    t = PrettyTable(['Name', 'min', 'max'])\n",
        "    min_list=[]\n",
        "    max_list=[]\n",
        "    for x in range(1,12):\n",
        "      name = df.columns[x]\n",
        "      mini = df[df.columns[x]].min()\n",
        "      min_list.append(mini)\n",
        "      maxi = df[df.columns[x]].max()\n",
        "      max_list.append(maxi)\n",
        "      t.add_row([name,mini,maxi])\n",
        "    print(t)\n",
        "    barWidth = 0.3\n",
        "    pit.figure(figsize=(18, 5))\n",
        "    r1 = np.arange(len(min_list))\n",
        "    r2 = [x + barWidth for x in r1]\n",
        "    pit.bar(r1, min_list, width = barWidth, color = 'blue', edgecolor = 'black',label='Min')\n",
        "    pit.bar(r2, max_list, width = barWidth, color = 'cyan', edgecolor = 'black', label='Max')\n",
        "    pit.xticks([r + barWidth for r in range(len(min_list))], feature_names)\n",
        "    pit.ylabel('Values')\n",
        "    pit.legend()\n",
        "    pit.show()\n",
        "\n",
        "    \n",
        "\n",
        "print('Red Wine Data:')\n",
        "\n",
        "for i in range(1,11):\n",
        "   find_MIN_MAX(red_wine[red_wine['quality']==i],i)\n",
        "\n",
        "\n",
        "\n",
        "print('White Wine Data:')\n",
        "\n",
        "for i in range(1,11):\n",
        "  find_MIN_MAX(white_wine[white_wine['quality']==i],i)\n"
      ],
      "execution_count": null,
      "outputs": [
        {
          "output_type": "stream",
          "text": [
            "Red Wine Data:\n",
            "quality:  1\n",
            "no datasets\n",
            "quality:  2\n",
            "no datasets\n",
            "quality:  3\n",
            "+----------------------+---------+--------+\n",
            "|         Name         |   min   |  max   |\n",
            "+----------------------+---------+--------+\n",
            "|    fixed acidity     |   6.7   |  11.6  |\n",
            "|   volatile acidity   |   0.44  |  1.58  |\n",
            "|     citric acid      |   0.0   |  0.66  |\n",
            "|    residual sugar    |   1.2   |  5.7   |\n",
            "|      chlorides       |  0.061  | 0.267  |\n",
            "| free sulfur dioxide  |   3.0   |  34.0  |\n",
            "| total sulfur dioxide |   9.0   |  49.0  |\n",
            "|       density        | 0.99471 | 1.0008 |\n",
            "|          pH          |   3.16  |  3.63  |\n",
            "|      sulphates       |   0.4   |  0.86  |\n",
            "|       alcohol        |   8.4   |  11.0  |\n",
            "+----------------------+---------+--------+\n"
          ],
          "name": "stdout"
        },
        {
          "output_type": "display_data",
          "data": {
            "image/png": "[encoded data removed]",
            "text/plain": [
              "<Figure size 1296x360 with 1 Axes>"
            ]
          },
          "metadata": {
            "tags": [],
            "needs_background": "light"
          }
        },
        {
          "output_type": "stream",
          "text": [
            "quality:  4\n",
            "+----------------------+--------+-------+\n",
            "|         Name         |  min   |  max  |\n",
            "+----------------------+--------+-------+\n",
            "|    fixed acidity     |  4.6   |  12.5 |\n",
            "|   volatile acidity   |  0.23  |  1.13 |\n",
            "|     citric acid      |  0.0   |  1.0  |\n",
            "|    residual sugar    |  1.3   |  12.9 |\n",
            "|      chlorides       | 0.045  |  0.61 |\n",
            "| free sulfur dioxide  |  3.0   |  41.0 |\n",
            "| total sulfur dioxide |  7.0   | 119.0 |\n",
            "|       density        | 0.9934 | 1.001 |\n",
            "|          pH          |  2.74  |  3.9  |\n",
            "|      sulphates       |  0.33  |  2.0  |\n",
            "|       alcohol        |  9.0   |  13.1 |\n",
            "+----------------------+--------+-------+\n"
          ],
          "name": "stdout"
        },
        {
          "output_type": "display_data",
          "data": {
            "image/png": "[encoded data removed]",
            "text/plain": [
              "<Figure size 1296x360 with 1 Axes>"
            ]
          },
          "metadata": {
            "tags": [],
            "needs_background": "light"
          }
        },
        {
          "output_type": "stream",
          "text": [
            "quality:  5\n",
            "+----------------------+---------+---------+\n",
            "|         Name         |   min   |   max   |\n",
            "+----------------------+---------+---------+\n",
            "|    fixed acidity     |   5.0   |   15.9  |\n",
            "|   volatile acidity   |   0.18  |   1.33  |\n",
            "|     citric acid      |   0.0   |   0.79  |\n",
            "|    residual sugar    |   1.2   |   15.5  |\n",
            "|      chlorides       |  0.039  |  0.611  |\n",
            "| free sulfur dioxide  |   3.0   |   68.0  |\n",
            "| total sulfur dioxide |   6.0   |  155.0  |\n",
            "|       density        | 0.99256 | 1.00315 |\n",
            "|          pH          |   2.88  |   3.74  |\n",
            "|      sulphates       |   0.37  |   1.98  |\n",
            "|       alcohol        |   8.5   |   14.9  |\n",
            "+----------------------+---------+---------+\n"
          ],
          "name": "stdout"
        },
        {
          "output_type": "display_data",
          "data": {
            "image/png": "[encoded data removed]",
            "text/plain": [
              "<Figure size 1296x360 with 1 Axes>"
            ]
          },
          "metadata": {
            "tags": [],
            "needs_background": "light"
          }
        },
        {
          "output_type": "stream",
          "text": [
            "quality:  6\n",
            "+----------------------+--------------------+---------+\n",
            "|         Name         |        min         |   max   |\n",
            "+----------------------+--------------------+---------+\n",
            "|    fixed acidity     |        4.7         |   14.3  |\n",
            "|   volatile acidity   |        0.16        |   1.04  |\n",
            "|     citric acid      |        0.0         |   0.78  |\n",
            "|    residual sugar    |        0.9         |   15.4  |\n",
            "|      chlorides       |       0.034        |  0.415  |\n",
            "| free sulfur dioxide  |        1.0         |   72.0  |\n",
            "| total sulfur dioxide |        6.0         |  165.0  |\n",
            "|       density        | 0.9900700000000001 | 1.00369 |\n",
            "|          pH          |        2.86        |   4.01  |\n",
            "|      sulphates       |        0.4         |   1.95  |\n",
            "|       alcohol        |        8.4         |   14.0  |\n",
            "+----------------------+--------------------+---------+\n"
          ],
          "name": "stdout"
        },
        {
          "output_type": "display_data",
          "data": {
            "image/png": "[encoded data removed]",
            "text/plain": [
              "<Figure size 1296x360 with 1 Axes>"
            ]
          },
          "metadata": {
            "tags": [],
            "needs_background": "light"
          }
        },
        {
          "output_type": "stream",
          "text": [
            "quality:  7\n",
            "+----------------------+---------+--------+\n",
            "|         Name         |   min   |  max   |\n",
            "+----------------------+---------+--------+\n",
            "|    fixed acidity     |   4.9   |  15.6  |\n",
            "|   volatile acidity   |   0.12  | 0.915  |\n",
            "|     citric acid      |   0.0   |  0.76  |\n",
            "|    residual sugar    |   1.2   |  8.9   |\n",
            "|      chlorides       |  0.012  | 0.358  |\n",
            "| free sulfur dioxide  |   3.0   |  54.0  |\n",
            "| total sulfur dioxide |   7.0   | 289.0  |\n",
            "|       density        | 0.99064 | 1.0032 |\n",
            "|          pH          |   2.92  |  3.78  |\n",
            "|      sulphates       |   0.39  |  1.36  |\n",
            "|       alcohol        |   9.2   |  14.0  |\n",
            "+----------------------+---------+--------+\n"
          ],
          "name": "stdout"
        },
        {
          "output_type": "display_data",
          "data": {
            "image/png": "[encoded data removed]",
            "text/plain": [
              "<Figure size 1296x360 with 1 Axes>"
            ]
          },
          "metadata": {
            "tags": [],
            "needs_background": "light"
          }
        },
        {
          "output_type": "stream",
          "text": [
            "quality:  8\n",
            "+----------------------+----------------------+--------+\n",
            "|         Name         |         min          |  max   |\n",
            "+----------------------+----------------------+--------+\n",
            "|    fixed acidity     |         5.0          |  12.6  |\n",
            "|   volatile acidity   |         0.26         |  0.85  |\n",
            "|     citric acid      |         0.03         |  0.72  |\n",
            "|    residual sugar    |         1.4          |  6.4   |\n",
            "|      chlorides       | 0.044000000000000004 | 0.086  |\n",
            "| free sulfur dioxide  |         3.0          |  42.0  |\n",
            "| total sulfur dioxide |         12.0         |  88.0  |\n",
            "|       density        |        0.9908        | 0.9988 |\n",
            "|          pH          |         2.88         |  3.72  |\n",
            "|      sulphates       |         0.63         |  1.1   |\n",
            "|       alcohol        |         9.8          |  14.0  |\n",
            "+----------------------+----------------------+--------+\n"
          ],
          "name": "stdout"
        },
        {
          "output_type": "display_data",
          "data": {
            "image/png": "[encoded data removed]",
            "text/plain": [
              "<Figure size 1296x360 with 1 Axes>"
            ]
          },
          "metadata": {
            "tags": [],
            "needs_background": "light"
          }
        },
        {
          "output_type": "stream",
          "text": [
            "quality:  9\n",
            "no datasets\n",
            "quality:  10\n",
            "no datasets\n",
            "White Wine Data:\n",
            "quality:  1\n",
            "no datasets\n",
            "quality:  2\n",
            "no datasets\n",
            "quality:  3\n",
            "+----------------------+----------------------+--------+\n",
            "|         Name         |         min          |  max   |\n",
            "+----------------------+----------------------+--------+\n",
            "|    fixed acidity     |         4.2          |  11.8  |\n",
            "|   volatile acidity   |         0.17         |  0.64  |\n",
            "|     citric acid      |         0.21         |  0.47  |\n",
            "|    residual sugar    |         0.7          |  16.2  |\n",
            "|      chlorides       | 0.022000000000000002 | 0.244  |\n",
            "| free sulfur dioxide  |         5.0          | 289.0  |\n",
            "| total sulfur dioxide |         19.0         | 440.0  |\n",
            "|       density        |        0.9911        | 1.0001 |\n",
            "|          pH          |         2.87         |  3.55  |\n",
            "|      sulphates       |         0.28         |  0.74  |\n",
            "|       alcohol        |         8.0          |  12.6  |\n",
            "+----------------------+----------------------+--------+\n"
          ],
          "name": "stdout"
        },
        {
          "output_type": "display_data",
          "data": {
            "image/png": "[encoded data removed]",
            "text/plain": [
              "<Figure size 1296x360 with 1 Axes>"
            ]
          },
          "metadata": {
            "tags": [],
            "needs_background": "light"
          }
        },
        {
          "output_type": "stream",
          "text": [
            "quality:  4\n",
            "+----------------------+----------------------+--------+\n",
            "|         Name         |         min          |  max   |\n",
            "+----------------------+----------------------+--------+\n",
            "|    fixed acidity     |         4.8          |  10.2  |\n",
            "|   volatile acidity   |         0.11         |  1.1   |\n",
            "|     citric acid      |         0.0          |  0.88  |\n",
            "|    residual sugar    |         0.7          | 17.55  |\n",
            "|      chlorides       | 0.013000000000000001 |  0.29  |\n",
            "| free sulfur dioxide  |         3.0          | 138.5  |\n",
            "| total sulfur dioxide |         10.0         | 272.0  |\n",
            "|       density        |        0.9892        | 1.0004 |\n",
            "|          pH          |         2.83         |  3.72  |\n",
            "|      sulphates       |         0.25         |  0.87  |\n",
            "|       alcohol        |         8.4          |  13.5  |\n",
            "+----------------------+----------------------+--------+\n"
          ],
          "name": "stdout"
        },
        {
          "output_type": "display_data",
          "data": {
            "image/png": "[encoded data removed]",
            "text/plain": [
              "<Figure size 1296x360 with 1 Axes>"
            ]
          },
          "metadata": {
            "tags": [],
            "needs_background": "light"
          }
        },
        {
          "output_type": "stream",
          "text": [
            "quality:  5\n",
            "+----------------------+----------------------+---------------------+\n",
            "|         Name         |         min          |         max         |\n",
            "+----------------------+----------------------+---------------------+\n",
            "|    fixed acidity     |         4.5          |         10.3        |\n",
            "|   volatile acidity   |         0.1          |        0.905        |\n",
            "|     citric acid      |         0.0          |         1.0         |\n",
            "|    residual sugar    |         0.6          |         23.5        |\n",
            "|      chlorides       | 0.009000000000000001 | 0.34600000000000003 |\n",
            "| free sulfur dioxide  |         2.0          |        131.0        |\n",
            "| total sulfur dioxide |         9.0          |        344.0        |\n",
            "|       density        |  0.9872200000000001  |       1.00241       |\n",
            "|          pH          |         2.79         |         3.79        |\n",
            "|      sulphates       |         0.27         |         0.88        |\n",
            "|       alcohol        |         8.0          |         13.6        |\n",
            "+----------------------+----------------------+---------------------+\n"
          ],
          "name": "stdout"
        },
        {
          "output_type": "display_data",
          "data": {
            "image/png": "[encoded data removed]",
            "text/plain": [
              "<Figure size 1296x360 with 1 Axes>"
            ]
          },
          "metadata": {
            "tags": [],
            "needs_background": "light"
          }
        },
        {
          "output_type": "stream",
          "text": [
            "quality:  6\n",
            "+----------------------+--------------------+---------+\n",
            "|         Name         |        min         |   max   |\n",
            "+----------------------+--------------------+---------+\n",
            "|    fixed acidity     |        3.8         |   14.2  |\n",
            "|   volatile acidity   |        0.08        |  0.965  |\n",
            "|     citric acid      |        0.0         |   1.66  |\n",
            "|    residual sugar    |        0.7         |   65.8  |\n",
            "|      chlorides       |       0.015        |  0.255  |\n",
            "| free sulfur dioxide  |        3.0         |  112.0  |\n",
            "| total sulfur dioxide |        18.0        |  294.0  |\n",
            "|       density        | 0.9875799999999999 | 1.03898 |\n",
            "|          pH          |        2.72        |   3.81  |\n",
            "|      sulphates       |        0.23        |   1.06  |\n",
            "|       alcohol        |        8.5         |   14.0  |\n",
            "+----------------------+--------------------+---------+\n"
          ],
          "name": "stdout"
        },
        {
          "output_type": "display_data",
          "data": {
            "image/png": "[encoded data removed]",
            "text/plain": [
              "<Figure size 1296x360 with 1 Axes>"
            ]
          },
          "metadata": {
            "tags": [],
            "needs_background": "light"
          }
        },
        {
          "output_type": "stream",
          "text": [
            "quality:  7\n",
            "+----------------------+---------+--------+\n",
            "|         Name         |   min   |  max   |\n",
            "+----------------------+---------+--------+\n",
            "|    fixed acidity     |   4.2   |  9.2   |\n",
            "|   volatile acidity   |   0.08  |  0.76  |\n",
            "|     citric acid      |   0.01  |  0.74  |\n",
            "|    residual sugar    |   0.9   | 19.25  |\n",
            "|      chlorides       |  0.012  | 0.135  |\n",
            "| free sulfur dioxide  |   5.0   | 108.0  |\n",
            "| total sulfur dioxide |   34.0  | 229.0  |\n",
            "|       density        | 0.98711 | 1.0004 |\n",
            "|          pH          |   2.84  |  3.82  |\n",
            "|      sulphates       |   0.22  |  1.08  |\n",
            "|       alcohol        |   8.6   |  14.2  |\n",
            "+----------------------+---------+--------+\n"
          ],
          "name": "stdout"
        },
        {
          "output_type": "display_data",
          "data": {
            "image/png": "[encoded data removed]",
            "text/plain": [
              "<Figure size 1296x360 with 1 Axes>"
            ]
          },
          "metadata": {
            "tags": [],
            "needs_background": "light"
          }
        },
        {
          "output_type": "stream",
          "text": [
            "quality:  8\n",
            "+----------------------+----------------------+--------+\n",
            "|         Name         |         min          |  max   |\n",
            "+----------------------+----------------------+--------+\n",
            "|    fixed acidity     |         3.9          |  8.2   |\n",
            "|   volatile acidity   |         0.12         |  0.66  |\n",
            "|     citric acid      |         0.04         |  0.74  |\n",
            "|    residual sugar    |         0.8          |  14.8  |\n",
            "|      chlorides       | 0.013999999999999999 | 0.121  |\n",
            "| free sulfur dioxide  |         6.0          | 105.0  |\n",
            "| total sulfur dioxide |         59.0         | 212.5  |\n",
            "|       density        |       0.98713        | 1.0006 |\n",
            "|          pH          |         2.94         |  3.59  |\n",
            "|      sulphates       |         0.25         |  0.95  |\n",
            "|       alcohol        |         8.5          |  14.0  |\n",
            "+----------------------+----------------------+--------+\n"
          ],
          "name": "stdout"
        },
        {
          "output_type": "display_data",
          "data": {
            "image/png": "[encoded data removed]",
            "text/plain": [
              "<Figure size 1296x360 with 1 Axes>"
            ]
          },
          "metadata": {
            "tags": [],
            "needs_background": "light"
          }
        },
        {
          "output_type": "stream",
          "text": [
            "quality:  9\n",
            "+----------------------+----------------------+-------+\n",
            "|         Name         |         min          |  max  |\n",
            "+----------------------+----------------------+-------+\n",
            "|    fixed acidity     |         6.6          |  9.1  |\n",
            "|   volatile acidity   |         0.24         |  0.36 |\n",
            "|     citric acid      |         0.29         |  0.49 |\n",
            "|    residual sugar    |         1.6          |  10.6 |\n",
            "|      chlorides       | 0.018000000000000002 | 0.035 |\n",
            "| free sulfur dioxide  |         24.0         |  57.0 |\n",
            "| total sulfur dioxide |         85.0         | 139.0 |\n",
            "|       density        |       0.98965        | 0.997 |\n",
            "|          pH          |         3.2          |  3.41 |\n",
            "|      sulphates       |         0.36         |  0.61 |\n",
            "|       alcohol        |         10.4         |  12.9 |\n",
            "+----------------------+----------------------+-------+\n"
          ],
          "name": "stdout"
        },
        {
          "output_type": "display_data",
          "data": {
            "image/png": "[encoded data removed]",
            "text/plain": [
              "<Figure size 1296x360 with 1 Axes>"
            ]
          },
          "metadata": {
            "tags": [],
            "needs_background": "light"
          }
        },
        {
          "output_type": "stream",
          "text": [
            "quality:  10\n",
            "no datasets\n"
          ],
          "name": "stdout"
        }
      ]
    },
    {
      "cell_type": "markdown",
      "metadata": {
        "id": "S4hOzDxzzk_w"
      },
      "source": [
        "Since the quality points mentioned here is in the scale of 0-10, we will change it into scale of 100.\n",
        "\n",
        "NewValue = (((OldValue - OldMin) * (NewMax - NewMin)) / (OldMax - OldMin)) + NewMin"
      ]
    },
    {
      "cell_type": "code",
      "metadata": {
        "colab": {
          "base_uri": "https://localhost:8080/",
          "height": 377
        },
        "id": "MUgdwfed0EqC",
        "outputId": "0e7c0d4a-516c-43d6-c8a9-d1ed66b496df"
      },
      "source": [
        "#for white wine\n",
        "old_min = white_wine['quality'].min()\n",
        "old_max = white_wine['quality'].max()\n",
        "\n",
        "new_min = sensory1['points'].min()\n",
        "new_max = sensory1['points'].max()\n",
        "print(new_max)\n",
        "\n",
        "white_wine['points'] = (((white_wine['quality'] - old_min) * (new_max - new_min)) / (old_max - old_min)) + new_min\n",
        "white_wine.head()"
      ],
      "execution_count": null,
      "outputs": [
        {
          "output_type": "stream",
          "text": [
            "100\n"
          ],
          "name": "stdout"
        },
        {
          "output_type": "stream",
          "text": [
            "/usr/local/lib/python3.6/dist-packages/ipykernel_launcher.py:9: SettingWithCopyWarning: \n",
            "A value is trying to be set on a copy of a slice from a DataFrame.\n",
            "Try using .loc[row_indexer,col_indexer] = value instead\n",
            "\n",
            "See the caveats in the documentation: https://pandas.pydata.org/pandas-docs/stable/user_guide/indexing.html#returning-a-view-versus-a-copy\n",
            "  if __name__ == '__main__':\n"
          ],
          "name": "stderr"
        },
        {
          "output_type": "execute_result",
          "data": {
            "text/html": [
              "<div>\n",
              "<style scoped>\n",
              "    .dataframe tbody tr th:only-of-type {\n",
              "        vertical-align: middle;\n",
              "    }\n",
              "\n",
              "    .dataframe tbody tr th {\n",
              "        vertical-align: top;\n",
              "    }\n",
              "\n",
              "    .dataframe thead th {\n",
              "        text-align: right;\n",
              "    }\n",
              "</style>\n",
              "<table border=\"1\" class=\"dataframe\">\n",
              "  <thead>\n",
              "    <tr style=\"text-align: right;\">\n",
              "      <th></th>\n",
              "      <th>type</th>\n",
              "      <th>fixed acidity</th>\n",
              "      <th>volatile acidity</th>\n",
              "      <th>citric acid</th>\n",
              "      <th>residual sugar</th>\n",
              "      <th>chlorides</th>\n",
              "      <th>free sulfur dioxide</th>\n",
              "      <th>total sulfur dioxide</th>\n",
              "      <th>density</th>\n",
              "      <th>pH</th>\n",
              "      <th>sulphates</th>\n",
              "      <th>alcohol</th>\n",
              "      <th>quality</th>\n",
              "      <th>points</th>\n",
              "    </tr>\n",
              "  </thead>\n",
              "  <tbody>\n",
              "    <tr>\n",
              "      <th>0</th>\n",
              "      <td>white</td>\n",
              "      <td>7.0</td>\n",
              "      <td>0.27</td>\n",
              "      <td>0.36</td>\n",
              "      <td>20.7</td>\n",
              "      <td>0.045</td>\n",
              "      <td>45.0</td>\n",
              "      <td>170.0</td>\n",
              "      <td>1.0010</td>\n",
              "      <td>3.00</td>\n",
              "      <td>0.45</td>\n",
              "      <td>8.8</td>\n",
              "      <td>6</td>\n",
              "      <td>90.0</td>\n",
              "    </tr>\n",
              "    <tr>\n",
              "      <th>1</th>\n",
              "      <td>white</td>\n",
              "      <td>6.3</td>\n",
              "      <td>0.30</td>\n",
              "      <td>0.34</td>\n",
              "      <td>1.6</td>\n",
              "      <td>0.049</td>\n",
              "      <td>14.0</td>\n",
              "      <td>132.0</td>\n",
              "      <td>0.9940</td>\n",
              "      <td>3.30</td>\n",
              "      <td>0.49</td>\n",
              "      <td>9.5</td>\n",
              "      <td>6</td>\n",
              "      <td>90.0</td>\n",
              "    </tr>\n",
              "    <tr>\n",
              "      <th>2</th>\n",
              "      <td>white</td>\n",
              "      <td>8.1</td>\n",
              "      <td>0.28</td>\n",
              "      <td>0.40</td>\n",
              "      <td>6.9</td>\n",
              "      <td>0.050</td>\n",
              "      <td>30.0</td>\n",
              "      <td>97.0</td>\n",
              "      <td>0.9951</td>\n",
              "      <td>3.26</td>\n",
              "      <td>0.44</td>\n",
              "      <td>10.1</td>\n",
              "      <td>6</td>\n",
              "      <td>90.0</td>\n",
              "    </tr>\n",
              "    <tr>\n",
              "      <th>3</th>\n",
              "      <td>white</td>\n",
              "      <td>7.2</td>\n",
              "      <td>0.23</td>\n",
              "      <td>0.32</td>\n",
              "      <td>8.5</td>\n",
              "      <td>0.058</td>\n",
              "      <td>47.0</td>\n",
              "      <td>186.0</td>\n",
              "      <td>0.9956</td>\n",
              "      <td>3.19</td>\n",
              "      <td>0.40</td>\n",
              "      <td>9.9</td>\n",
              "      <td>6</td>\n",
              "      <td>90.0</td>\n",
              "    </tr>\n",
              "    <tr>\n",
              "      <th>4</th>\n",
              "      <td>white</td>\n",
              "      <td>7.2</td>\n",
              "      <td>0.23</td>\n",
              "      <td>0.32</td>\n",
              "      <td>8.5</td>\n",
              "      <td>0.058</td>\n",
              "      <td>47.0</td>\n",
              "      <td>186.0</td>\n",
              "      <td>0.9956</td>\n",
              "      <td>3.19</td>\n",
              "      <td>0.40</td>\n",
              "      <td>9.9</td>\n",
              "      <td>6</td>\n",
              "      <td>90.0</td>\n",
              "    </tr>\n",
              "  </tbody>\n",
              "</table>\n",
              "</div>"
            ],
            "text/plain": [
              "    type  fixed acidity  volatile acidity  ...  alcohol  quality  points\n",
              "0  white            7.0              0.27  ...      8.8        6    90.0\n",
              "1  white            6.3              0.30  ...      9.5        6    90.0\n",
              "2  white            8.1              0.28  ...     10.1        6    90.0\n",
              "3  white            7.2              0.23  ...      9.9        6    90.0\n",
              "4  white            7.2              0.23  ...      9.9        6    90.0\n",
              "\n",
              "[5 rows x 14 columns]"
            ]
          },
          "metadata": {
            "tags": []
          },
          "execution_count": 14
        }
      ]
    },
    {
      "cell_type": "code",
      "metadata": {
        "colab": {
          "base_uri": "https://localhost:8080/",
          "height": 360
        },
        "id": "JXFYJkrm2hYo",
        "outputId": "12645087-97df-4362-d192-75cf26f51043"
      },
      "source": [
        "#for red wine\n",
        "old_min = red_wine['quality'].min()\n",
        "old_max = red_wine['quality'].max()\n",
        "\n",
        "red_wine['points'] = (((red_wine['quality'] - old_min) * (new_max - new_min)) / (old_max - old_min)) + new_min\n",
        "red_wine.head()"
      ],
      "execution_count": null,
      "outputs": [
        {
          "output_type": "stream",
          "text": [
            "/usr/local/lib/python3.6/dist-packages/ipykernel_launcher.py:5: SettingWithCopyWarning: \n",
            "A value is trying to be set on a copy of a slice from a DataFrame.\n",
            "Try using .loc[row_indexer,col_indexer] = value instead\n",
            "\n",
            "See the caveats in the documentation: https://pandas.pydata.org/pandas-docs/stable/user_guide/indexing.html#returning-a-view-versus-a-copy\n",
            "  \"\"\"\n"
          ],
          "name": "stderr"
        },
        {
          "output_type": "execute_result",
          "data": {
            "text/html": [
              "<div>\n",
              "<style scoped>\n",
              "    .dataframe tbody tr th:only-of-type {\n",
              "        vertical-align: middle;\n",
              "    }\n",
              "\n",
              "    .dataframe tbody tr th {\n",
              "        vertical-align: top;\n",
              "    }\n",
              "\n",
              "    .dataframe thead th {\n",
              "        text-align: right;\n",
              "    }\n",
              "</style>\n",
              "<table border=\"1\" class=\"dataframe\">\n",
              "  <thead>\n",
              "    <tr style=\"text-align: right;\">\n",
              "      <th></th>\n",
              "      <th>type</th>\n",
              "      <th>fixed acidity</th>\n",
              "      <th>volatile acidity</th>\n",
              "      <th>citric acid</th>\n",
              "      <th>residual sugar</th>\n",
              "      <th>chlorides</th>\n",
              "      <th>free sulfur dioxide</th>\n",
              "      <th>total sulfur dioxide</th>\n",
              "      <th>density</th>\n",
              "      <th>pH</th>\n",
              "      <th>sulphates</th>\n",
              "      <th>alcohol</th>\n",
              "      <th>quality</th>\n",
              "      <th>points</th>\n",
              "    </tr>\n",
              "  </thead>\n",
              "  <tbody>\n",
              "    <tr>\n",
              "      <th>4898</th>\n",
              "      <td>red</td>\n",
              "      <td>7.4</td>\n",
              "      <td>0.70</td>\n",
              "      <td>0.00</td>\n",
              "      <td>1.9</td>\n",
              "      <td>0.076</td>\n",
              "      <td>11.0</td>\n",
              "      <td>34.0</td>\n",
              "      <td>0.9978</td>\n",
              "      <td>3.51</td>\n",
              "      <td>0.56</td>\n",
              "      <td>9.4</td>\n",
              "      <td>5</td>\n",
              "      <td>88.0</td>\n",
              "    </tr>\n",
              "    <tr>\n",
              "      <th>4899</th>\n",
              "      <td>red</td>\n",
              "      <td>7.8</td>\n",
              "      <td>0.88</td>\n",
              "      <td>0.00</td>\n",
              "      <td>2.6</td>\n",
              "      <td>0.098</td>\n",
              "      <td>25.0</td>\n",
              "      <td>67.0</td>\n",
              "      <td>0.9968</td>\n",
              "      <td>3.20</td>\n",
              "      <td>0.68</td>\n",
              "      <td>9.8</td>\n",
              "      <td>5</td>\n",
              "      <td>88.0</td>\n",
              "    </tr>\n",
              "    <tr>\n",
              "      <th>4900</th>\n",
              "      <td>red</td>\n",
              "      <td>7.8</td>\n",
              "      <td>0.76</td>\n",
              "      <td>0.04</td>\n",
              "      <td>2.3</td>\n",
              "      <td>0.092</td>\n",
              "      <td>15.0</td>\n",
              "      <td>54.0</td>\n",
              "      <td>0.9970</td>\n",
              "      <td>3.26</td>\n",
              "      <td>0.65</td>\n",
              "      <td>9.8</td>\n",
              "      <td>5</td>\n",
              "      <td>88.0</td>\n",
              "    </tr>\n",
              "    <tr>\n",
              "      <th>4901</th>\n",
              "      <td>red</td>\n",
              "      <td>11.2</td>\n",
              "      <td>0.28</td>\n",
              "      <td>0.56</td>\n",
              "      <td>1.9</td>\n",
              "      <td>0.075</td>\n",
              "      <td>17.0</td>\n",
              "      <td>60.0</td>\n",
              "      <td>0.9980</td>\n",
              "      <td>3.16</td>\n",
              "      <td>0.58</td>\n",
              "      <td>9.8</td>\n",
              "      <td>6</td>\n",
              "      <td>92.0</td>\n",
              "    </tr>\n",
              "    <tr>\n",
              "      <th>4902</th>\n",
              "      <td>red</td>\n",
              "      <td>7.4</td>\n",
              "      <td>0.70</td>\n",
              "      <td>0.00</td>\n",
              "      <td>1.9</td>\n",
              "      <td>0.076</td>\n",
              "      <td>11.0</td>\n",
              "      <td>34.0</td>\n",
              "      <td>0.9978</td>\n",
              "      <td>3.51</td>\n",
              "      <td>0.56</td>\n",
              "      <td>9.4</td>\n",
              "      <td>5</td>\n",
              "      <td>88.0</td>\n",
              "    </tr>\n",
              "  </tbody>\n",
              "</table>\n",
              "</div>"
            ],
            "text/plain": [
              "     type  fixed acidity  volatile acidity  ...  alcohol  quality  points\n",
              "4898  red            7.4              0.70  ...      9.4        5    88.0\n",
              "4899  red            7.8              0.88  ...      9.8        5    88.0\n",
              "4900  red            7.8              0.76  ...      9.8        5    88.0\n",
              "4901  red           11.2              0.28  ...      9.8        6    92.0\n",
              "4902  red            7.4              0.70  ...      9.4        5    88.0\n",
              "\n",
              "[5 rows x 14 columns]"
            ]
          },
          "metadata": {
            "tags": []
          },
          "execution_count": 15
        }
      ]
    },
    {
      "cell_type": "markdown",
      "metadata": {
        "id": "qnrmDQHYVt1k"
      },
      "source": [
        "# Analysis of wine reviews datasets"
      ]
    },
    {
      "cell_type": "markdown",
      "metadata": {
        "id": "XFdJ8Azg6GCs"
      },
      "source": [
        "The wine reviews are seperated into two different csv files. "
      ]
    },
    {
      "cell_type": "code",
      "metadata": {
        "colab": {
          "base_uri": "https://localhost:8080/"
        },
        "id": "2SVKPpSr7JyG",
        "outputId": "a2914eb0-0430-4ae4-ebdb-14e07aa46a11"
      },
      "source": [
        "uniq_variety1 = sensory1['variety'].unique()\n",
        "uniq_vriety2 = sensory2['variety'].unique()\n",
        "common_variety = list(set(uniq_variety1).intersection(uniq_vriety2))\n",
        "print('Common and unique varieties in both csv are: ',common_variety)\n",
        "print('Number of varieties :',len(common_variety))"
      ],
      "execution_count": null,
      "outputs": [
        {
          "output_type": "stream",
          "text": [
            "Common and unique varieties in both csv are:  ['Pugnitello', 'Touriga Nacional Blend', 'Sylvaner', 'Mavrotragano', 'Black Monukka', 'Tannat-Syrah', 'Pallagrello', 'Sherry', 'Provence red blend', 'Rolle', 'Monastrell-Syrah', 'Trousseau Gris', 'White Blend', 'Vranec', 'Garnacha Tintorera', 'Carignano', 'Tinto del Pais', 'Alsace white blend', 'Aligoté', 'Merlot-Petite Verdot', 'Portuguese Rosé', 'Malvasia Bianca', 'Bual', 'Negroamaro', 'Merlot-Cabernet', 'Colorino', 'Sauvignon Blanc-Semillon', 'Gewürztraminer', 'Monastrell', 'Syrah-Carignan', 'Chinuri', 'Merlot', 'Malbec-Cabernet Franc', 'Lambrusco', 'Gouveio', 'Vitovska', 'Syrah-Petite Sirah', 'Premsal', 'Grenache-Mourvèdre', 'Pinotage-Merlot', 'Gros Manseng', 'Traminette', 'Tinta Roriz', 'Vinhão', 'Boğazkere', 'Nasco', 'Feteasca Neagra', 'Syrah-Cabernet Franc', 'Merlot-Grenache', 'St. Vincent', 'Grechetto', 'Petite Verdot', 'Roter Traminer', 'Greco', 'Roussanne-Viognier', 'Carineña', 'Silvaner', 'Gamay Noir', 'Cabernet Merlot', 'Magliocco', 'Chardonnay-Albariño', 'Karasakiz', 'Grecanico', 'Muscat Blanc', 'Pinot Bianco', 'Macabeo', 'Moscatel', 'Piedirosso', 'Trebbiano', 'Meritage', 'Moscatel de Alejandría', 'Cococciola', 'Roviello', 'Chenin Blanc', 'Portuguese White', 'Portuguese Sparkling', 'Mazuelo', 'Mavrud', 'Chardonnay Weissburgunder', 'Syrah-Cabernet Sauvignon', 'Antão Vaz', 'Syrah', 'Furmint', 'Semillon-Sauvignon Blanc', 'Melon', 'Marsanne', 'Scheurebe', 'Mtsvane', 'Shiraz-Malbec', 'Cabernet Sauvignon-Carmenère', 'Aidani', 'Claret', 'Doña Blanca', 'Mataro', 'Aleatico', 'Johannisberg Riesling', 'Catalanesca', 'Seyval Blanc', 'Vermentino Nero', 'Malvasia-Viura', 'Cortese', 'Muskateller', 'Pinot Meunier', \"Muscat d'Alexandrie\", 'Carmenère-Cabernet Sauvignon', 'Moscatel Roxo', 'Sangiovese-Syrah', 'Muscat', 'Marsanne-Roussanne', 'Vermentino', 'Malbec-Merlot', 'Roter Veltliner', 'Assyrtiko', 'Albariño', 'Kinali Yapincak', 'Petite Sirah', 'Pinot Noir-Syrah', 'Garnacha-Tempranillo', 'Tempranillo-Malbec', 'Nielluciu', 'Pinot Grigio-Sauvignon Blanc', 'Port', 'Barbera', 'Teroldego', 'Sämling', 'Cayuga', 'Moscato Giallo', 'Parraleta', 'Schwartzriesling', 'Xinisteri', 'Aragonês', 'Tempranillo-Merlot', 'Pecorino', 'Sangiovese', 'Teroldego Rotaliano', 'Nerello Cappuccio', 'Kuntra', 'Códega do Larinho', 'Muscadel', 'Gragnano', 'Moscato di Noto', 'Prié Blanc', 'Mourvèdre', 'Carignan', 'Albana', 'Žilavka', 'Malvar', 'Encruzado', 'Grillo', 'Chardonnay-Pinot Gris', 'Sauvignon Blanc-Chenin Blanc', 'Silvaner-Traminer', 'Refosco', 'St. Laurent', 'Gros and Petit Manseng', 'Kekfrankos', 'Tannat', 'Malbec', 'Tinta Negra Mole', 'Picapoll', 'Sacy', 'Palomino', 'Monica', 'Viura', 'Malagousia', 'Verdelho', 'Moscato', 'Madeira Blend', 'Caprettone', 'Frappato', 'Prieto Picudo', 'Vignoles', 'Sparkling Blend', 'Dolcetto', 'Cabernet-Syrah', 'Posip', 'Malvasia Nera', 'Touriga Nacional', 'Tocai', 'Alvarelhão', 'Pinot Blanc-Pinot Noir', 'Grenache', 'Jacquez', 'Zibibbo', 'Ansonica', 'Morava', 'Garnacha Blend', 'Manzoni', 'Catarratto', 'Saperavi', 'Viognier-Grenache Blanc', 'Kerner', 'Vidal Blanc', 'Chenin Blanc-Chardonnay', 'Sauvignon Blanc-Verdejo', 'Feteascǎ Regalǎ', 'G-S-M', 'Pinot Noir', 'Malbec-Cabernet Sauvignon', 'Malagouzia', 'Trincadeira', 'Morio Muskat', \"Loin de l'Oeil\", 'Orange Muscat', 'Forcallà', \"Nero d'Avola\", 'Malbec-Tannat', 'Siria', 'Godello', 'Pigato', 'Viognier-Marsanne', 'Garnacha', 'Sangiovese-Cabernet Sauvignon', 'Prosecco', 'Charbono', 'Cabernet', 'Mavroudi', 'Rosado', 'Colombard-Ugni Blanc', 'Malvasia Fina', 'Shiraz-Viognier', 'Savatiano', 'Tokay Pinot Gris', 'Grenache Gris', 'Tocai Friulano', 'Champagne Blend', 'Cabernet-Shiraz', 'Corvina', 'Carignan-Grenache', 'Colombard', 'Rieslaner', 'Sirica', 'Pinotage', 'Ruché', 'Agiorgitiko', 'Merlot-Argaman', 'Sagrantino', 'Syrah-Viognier', 'Cerceal', 'Raboso', 'Grignolino', 'Torontel', 'Rabigato', 'Shiraz-Grenache', 'Grenache-Shiraz', 'Tempranillo-Cabernet Sauvignon', 'Colombard-Sauvignon Blanc', 'Zierfandler', 'Veltliner', 'Moschofilero', 'Grenache-Carignan', 'Chenin Blanc-Viognier', 'Schiava', 'Gelber Traminer', 'Freisa', 'Weissburgunder', 'Nebbiolo', 'Bordeaux-style Red Blend', 'Austrian white blend', 'Perricone', 'Erbaluce', 'Tannat-Cabernet', 'Malvasia', 'Pinot Auxerrois', 'Tempranillo-Garnacha', 'Airen', 'Trepat', 'Touriga Franca', 'Cabernet Sauvignon-Sangiovese', 'Chardonnay', 'Symphony', 'Braucol', 'Vilana', 'Chardonnay-Viognier', 'Arinto', 'Muscat Canelli', 'Siegerrebe', 'Cabernet Sauvignon', 'Rkatsiteli', 'Verduzzo Friulano ', 'Syrah-Tempranillo', 'Rotgipfler', 'Sideritis', 'Pinot Nero', 'Cabernet Sauvignon-Shiraz', 'Graciano', 'Passerina', 'Counoise', 'Groppello', 'Carmenère-Syrah', 'Athiri', 'Orangetraube', 'Auxerrois', 'Cabernet Franc-Carmenère', 'Xinomavro', 'Montepulciano', 'Chenin Blanc-Sauvignon Blanc', 'Prugnolo Gentile', 'Bobal', 'Loureiro', 'Cabernet Franc', 'Petit Manseng', 'Baga', 'Turbiana', 'Portuguiser', 'Rufete', 'Sauvignonasse', 'Fer Servadou', 'Malbec-Tempranillo', 'Traminer', 'Tempranillo Blend', 'Shiraz-Tempranillo', 'Fiano', 'Tokaji', 'Nuragus', 'Alicante Bouschet', 'Bordeaux-style White Blend', 'Marsanne-Viognier', 'Pinot Grigio', 'Chasselas', 'Incrocio Manzoni', 'Dornfelder', 'Sauvignon Blanc', 'Sangiovese Grosso', 'Espadeiro', 'Hondarrabi Zuri', 'Cabernet Sauvignon-Merlot', 'Roscetto', 'Grauburgunder', 'Carignane', 'Romorantin', 'Sangiovese Cabernet', 'Tannat-Merlot', 'Carricante', 'Touriga Nacional-Cabernet Sauvignon', 'Gaglioppo', 'Lambrusco Grasparossa', 'Favorita', 'Rhône-style Red Blend', 'Vernaccia', 'Uva di Troia', 'Inzolia', 'Moscatel Graúdo', 'Kadarka', 'Chardonel', 'Lagrein', 'Black Muscat', 'Bombino Bianco', 'Pansa Blanca', 'Torbato', 'Carignan-Syrah', 'Jacquère', 'Muscatel', 'Syrah-Malbec', 'Albarossa', 'Ribolla Gialla', 'Avesso', 'Roussanne-Marsanne', 'Robola', 'Spätburgunder', 'Altesse', 'Chardonnay-Semillon', 'Roditis', 'Baco Noir', 'Chardonnay-Pinot Blanc', 'Merlot-Shiraz', 'Mansois', 'Viognier', 'Jaen', 'Sauvignon Gris', 'Merlot-Cabernet Sauvignon', 'Negrette', 'Viognier-Chardonnay', 'Baga-Touriga Nacional', 'Cabernet Franc-Malbec', 'Cabernet Sauvignon-Cabernet Franc', 'Blauburgunder', 'Früburgunder', 'Sauvignon Blanc-Sauvignon Gris', 'Fernão Pires', 'Verduzzo', 'Malbec-Bonarda', 'Picpoul', 'Blaufränkisch', 'Bical', 'Friulano', 'Tannat-Cabernet Franc', 'Narince', 'Tinta Barroca', 'Cabernet Sauvignon-Malbec', 'Chambourcin', 'Shiraz-Cabernet Sauvignon', 'Tempranillo', 'Zierfandler-Rotgipfler', 'Bastardo', 'Teran', 'Shiraz-Mourvèdre', 'Aragonez', 'Picolit', 'Malvasia Istriana', 'Corvina, Rondinella, Molinara', 'Sousão', 'Zelen', 'Macabeo-Chardonnay', 'Falanghina', 'Cariñena-Garnacha', 'Okuzgozu', 'Mondeuse', 'Apple', 'Insolia', 'Bovale', 'Muskat', 'Cabernet Franc-Merlot', 'Marzemino', 'Elbling', 'Tamjanika', 'Nero di Troia', 'Grenache-Syrah', 'Pignoletto', 'Pinot Blanc-Chardonnay', 'Malbec Blend', 'Gelber Muskateller', 'Muscadelle', 'Gewürztraminer-Riesling', 'Pinot Gris', 'Grenache Blanc', 'Alvarinho-Chardonnay', 'Viognier-Roussanne', 'Cabernet Sauvignon-Tempranillo', 'Alfrocheiro', 'Kalecik Karasi', 'Mauzac', 'Sauvignon', 'Verdicchio', 'Grüner Veltliner', 'Listán Negro', 'Plavac Mali', 'Coda di Volpe', 'Cabernet Franc-Cabernet Sauvignon', 'Edelzwicker', 'Debit', 'Aglianico', 'Muskat Ottonel', 'Tinta Fina', 'Karalahna', 'Viura-Verdejo', 'Petit Meslier', 'Cabernet Pfeffer', 'Rebula', 'Zweigelt', 'País', 'Tokay', 'Xarel-lo', 'Brachetto', 'Riesling', 'Norton', 'Dafni', 'Syrah-Bonarda', 'Tintilia ', 'Azal', 'Emir', 'Petit Verdot', 'Clairette', 'Arneis', 'Garnacha-Monastrell', 'Tinta Francisca', 'Fumé Blanc', 'Verdejo-Viura', 'Lambrusco di Sorbara', 'Zlahtina', 'Austrian Red Blend', 'Cabernet Sauvignon-Syrah', 'Merlot-Syrah', 'Cannonau', 'Pallagrello Bianco', 'Tempranillo-Shiraz', 'Syrah-Mourvèdre', 'Syrah-Merlot', 'Mavrodaphne', 'Pallagrello Nero', 'Macabeo-Moscatel', 'Irsai Oliver', 'Red Blend', 'Syrah-Grenache-Viognier', 'Castelão', 'Semillon-Chardonnay', 'Blatina', 'Alicante', 'Viura-Chardonnay', 'Ciliegiolo', 'Mission', 'Xynisteri', 'Cinsault', 'Rivaner', 'Asprinio', 'Argaman', 'Verdejo-Sauvignon Blanc', 'Garnacha-Syrah', 'Garnacha-Cabernet', 'Mandilaria', 'Lemberger', 'Malbec-Petit Verdot', 'Merlot-Cabernet Franc', \"Cesanese d'Affile\", 'Tinto Fino', 'Morillon', 'Garganega', 'Pinot Noir-Gamay', 'Sauvignon Musqué', 'Trebbiano di Lugana', 'Roussanne', 'Franconia', 'Tinta de Toro', 'Pinot Blanc', 'Zinfandel', 'Roussanne-Grenache Blanc', 'Susumaniello', 'Syrah-Cabernet', 'Nerello Mascalese', 'Durif', 'Feteasca', 'Mantonico', 'Greco Bianco', 'Portuguese Red', 'Sercial', 'Assyrtico', 'Cabernet Moravia', 'Valdiguié', 'Casavecchia', 'Grenache Blend', 'Rosé', 'Vidal', 'Savagnin', 'Mencía', 'Bonarda', 'Muscat of Alexandria', 'Carmenère', 'Sémillon', 'Chardonnay-Sauvignon', 'Cabernet Sauvignon-Merlot-Shiraz', 'Primitivo', 'Maturana', 'Merlot-Malbec', 'Syrah-Grenache', 'Provence white blend', 'Vespaiolo', 'Gamay', 'Moscadello', 'Verdeca', 'Ugni Blanc', 'Blauer Portugieser', 'Nosiola', 'Tempranillo Blanco', 'Garnacha Blanca', 'Glera', 'Malbec-Syrah', 'White Port', 'White Riesling', 'Rosato', 'Neuburger', 'Vidadillo', 'Sauvignon Blanc-Chardonnay', 'Yapincak', 'Duras', 'Muscat Hamburg', 'Chardonnay-Sauvignon Blanc', 'Pinot-Chardonnay', 'Alvarinho', 'Hárslevelü', 'Shiraz', 'Welschriesling', 'Viognier-Valdiguié', 'Ugni Blanc-Colombard', 'Saperavi-Merlot', 'Müller-Thurgau', 'Torrontés', 'Pedro Ximénez', 'Madeleine Angevine', 'Cabernet Sauvignon Grenache', 'Cabernet Blend', 'Grolleau', 'Verdejo', 'Rhône-style White Blend']\n",
            "Number of varieties : 583\n"
          ],
          "name": "stdout"
        }
      ]
    },
    {
      "cell_type": "markdown",
      "metadata": {
        "id": "y0xA6E7M7G_Q"
      },
      "source": [
        "Since we have many varieties of wine in each of the five categories and we have datasets only for white and red wine, we will consider only the varieties of white and red wines."
      ]
    },
    {
      "cell_type": "code",
      "metadata": {
        "colab": {
          "base_uri": "https://localhost:8080/"
        },
        "id": "or61EjTI62Pi",
        "outputId": "cf829201-4dcb-4fed-f6ab-c7fe25cc2db1"
      },
      "source": [
        "white_varieties = ['Aligoté','Alvarinho', 'Auxerrois', 'Bacchus','Bual','Chardonnay','Chasselas','Chenin','Blanc','Colombard','Emerald','Riesling','Fumé','Blanc','Folle','Blanche','Furmint','Gewürztraminer','Grüner Veltliner','Hárslevelü','Jacquère','Kerner','Malvasia','Marsanne','Morio-Muscat','Müller-Thurgau','Muscadelle','Muscadet','Moscato','Palomino','Pedro Ximenez','Picolit','Pinot Blanc','Pinot Gris','Riesling','Rkatsiteli','Sacy','Savagnin','Sauvignon Blanc','Scheurebe','Sémillon','Sercial','Seyval Blan','Silvaner','Trebbiano','Verdelho','Verdicchio','Vidal','Viognier','Viura','Welschriesling']\n",
        "red_varieties = ['Aglianico','Alicante','Baco','Noir','Barbera','Cabernet Franc','Cabernet Sauvignon','Carignan','Cinsault','de Chaunac','Dolcetto','Freisa','Gamay','Gamay Beaujolais','Grenache','Grignolino','Kadarka','Lambrusco','Malbec','Maréchal Foch','Merlot','Mourvèdre','Nebbiolo','Petite Sirah','Pinot Noir','Pinot','Meunier','Pinotae','primitivo','Ruby Cabernet','Sangiovese','Syrah','Tempranillo,''Touriga Naçional','Xynomavro','Zinfandel']\n",
        "print('Number of white wine varieties considered: ', len(white_varieties))\n",
        "print('Number of red wine varieties considered: ', len(red_varieties))"
      ],
      "execution_count": null,
      "outputs": [
        {
          "output_type": "stream",
          "text": [
            "Number of white wine varieties considered:  51\n",
            "Number of red wine varieties considered:  35\n"
          ],
          "name": "stdout"
        }
      ]
    },
    {
      "cell_type": "markdown",
      "metadata": {
        "id": "mhS7U4ps79o6"
      },
      "source": [
        "Abstracting only those varieties: ( since some rows have no price and also price is an important attribute, we ignore those rows)"
      ]
    },
    {
      "cell_type": "code",
      "metadata": {
        "colab": {
          "base_uri": "https://localhost:8080/",
          "height": 581
        },
        "id": "hNyJkcTq8DCy",
        "outputId": "239b5770-c8be-4abc-9a03-b0eba783c615"
      },
      "source": [
        "white = pd.concat([sensory1[sensory1['variety'].isin(white_varieties)] ,sensory2[sensory2['variety'].isin(white_varieties)]],sort=False)\n",
        "white = white[np.isfinite(white['price'])]\n",
        "print('shape of the white wine: ', white.shape)\n",
        "white.head()"
      ],
      "execution_count": null,
      "outputs": [
        {
          "output_type": "stream",
          "text": [
            "shape of the white wine:  (58336, 14)\n"
          ],
          "name": "stdout"
        },
        {
          "output_type": "execute_result",
          "data": {
            "text/html": [
              "<div>\n",
              "<style scoped>\n",
              "    .dataframe tbody tr th:only-of-type {\n",
              "        vertical-align: middle;\n",
              "    }\n",
              "\n",
              "    .dataframe tbody tr th {\n",
              "        vertical-align: top;\n",
              "    }\n",
              "\n",
              "    .dataframe thead th {\n",
              "        text-align: right;\n",
              "    }\n",
              "</style>\n",
              "<table border=\"1\" class=\"dataframe\">\n",
              "  <thead>\n",
              "    <tr style=\"text-align: right;\">\n",
              "      <th></th>\n",
              "      <th>Unnamed: 0</th>\n",
              "      <th>country</th>\n",
              "      <th>description</th>\n",
              "      <th>designation</th>\n",
              "      <th>points</th>\n",
              "      <th>price</th>\n",
              "      <th>province</th>\n",
              "      <th>region_1</th>\n",
              "      <th>region_2</th>\n",
              "      <th>variety</th>\n",
              "      <th>winery</th>\n",
              "      <th>taster_name</th>\n",
              "      <th>taster_twitter_handle</th>\n",
              "      <th>title</th>\n",
              "    </tr>\n",
              "  </thead>\n",
              "  <tbody>\n",
              "    <tr>\n",
              "      <th>2</th>\n",
              "      <td>2</td>\n",
              "      <td>US</td>\n",
              "      <td>Mac Watson honors the memory of a wine once ma...</td>\n",
              "      <td>Special Selected Late Harvest</td>\n",
              "      <td>96</td>\n",
              "      <td>90.0</td>\n",
              "      <td>California</td>\n",
              "      <td>Knights Valley</td>\n",
              "      <td>Sonoma</td>\n",
              "      <td>Sauvignon Blanc</td>\n",
              "      <td>Macauley</td>\n",
              "      <td>NaN</td>\n",
              "      <td>NaN</td>\n",
              "      <td>NaN</td>\n",
              "    </tr>\n",
              "    <tr>\n",
              "      <th>15</th>\n",
              "      <td>15</td>\n",
              "      <td>US</td>\n",
              "      <td>First made in 2006, this succulent luscious Ch...</td>\n",
              "      <td>Sigrid</td>\n",
              "      <td>95</td>\n",
              "      <td>90.0</td>\n",
              "      <td>Oregon</td>\n",
              "      <td>Willamette Valley</td>\n",
              "      <td>Willamette Valley</td>\n",
              "      <td>Chardonnay</td>\n",
              "      <td>Bergström</td>\n",
              "      <td>NaN</td>\n",
              "      <td>NaN</td>\n",
              "      <td>NaN</td>\n",
              "    </tr>\n",
              "    <tr>\n",
              "      <th>23</th>\n",
              "      <td>23</td>\n",
              "      <td>US</td>\n",
              "      <td>The apogee of this ambitious winery's white wi...</td>\n",
              "      <td>Giallo Solare</td>\n",
              "      <td>95</td>\n",
              "      <td>60.0</td>\n",
              "      <td>California</td>\n",
              "      <td>Edna Valley</td>\n",
              "      <td>Central Coast</td>\n",
              "      <td>Chardonnay</td>\n",
              "      <td>Center of Effort</td>\n",
              "      <td>NaN</td>\n",
              "      <td>NaN</td>\n",
              "      <td>NaN</td>\n",
              "    </tr>\n",
              "    <tr>\n",
              "      <th>25</th>\n",
              "      <td>25</td>\n",
              "      <td>New Zealand</td>\n",
              "      <td>Yields were down in 2015, but intensity is up,...</td>\n",
              "      <td>Maté's Vineyard</td>\n",
              "      <td>94</td>\n",
              "      <td>57.0</td>\n",
              "      <td>Kumeu</td>\n",
              "      <td>NaN</td>\n",
              "      <td>NaN</td>\n",
              "      <td>Chardonnay</td>\n",
              "      <td>Kumeu River</td>\n",
              "      <td>NaN</td>\n",
              "      <td>NaN</td>\n",
              "      <td>NaN</td>\n",
              "    </tr>\n",
              "    <tr>\n",
              "      <th>31</th>\n",
              "      <td>31</td>\n",
              "      <td>US</td>\n",
              "      <td>Steely and perfumed, this wine sees only 20% n...</td>\n",
              "      <td>Babushka</td>\n",
              "      <td>90</td>\n",
              "      <td>37.0</td>\n",
              "      <td>California</td>\n",
              "      <td>Russian River Valley</td>\n",
              "      <td>Sonoma</td>\n",
              "      <td>Chardonnay</td>\n",
              "      <td>Zepaltas</td>\n",
              "      <td>NaN</td>\n",
              "      <td>NaN</td>\n",
              "      <td>NaN</td>\n",
              "    </tr>\n",
              "  </tbody>\n",
              "</table>\n",
              "</div>"
            ],
            "text/plain": [
              "    Unnamed: 0      country  ... taster_twitter_handle title\n",
              "2            2           US  ...                   NaN   NaN\n",
              "15          15           US  ...                   NaN   NaN\n",
              "23          23           US  ...                   NaN   NaN\n",
              "25          25  New Zealand  ...                   NaN   NaN\n",
              "31          31           US  ...                   NaN   NaN\n",
              "\n",
              "[5 rows x 14 columns]"
            ]
          },
          "metadata": {
            "tags": []
          },
          "execution_count": 18
        }
      ]
    },
    {
      "cell_type": "code",
      "metadata": {
        "colab": {
          "base_uri": "https://localhost:8080/",
          "height": 581
        },
        "id": "1KJYRMLI8xtG",
        "outputId": "bcd6e4ed-720e-45a8-b2f0-a9c0b603469c"
      },
      "source": [
        "\n",
        "red = pd.concat([sensory1[sensory1['variety'].isin(red_varieties)],sensory2[sensory2['variety'].isin(red_varieties)]],sort=False)\n",
        "red = red[np.isfinite(red['price'])]\n",
        "print('shape of the red wine: ', red.shape)\n",
        "red.head()"
      ],
      "execution_count": null,
      "outputs": [
        {
          "output_type": "stream",
          "text": [
            "shape of the red wine:  (97603, 14)\n"
          ],
          "name": "stdout"
        },
        {
          "output_type": "execute_result",
          "data": {
            "text/html": [
              "<div>\n",
              "<style scoped>\n",
              "    .dataframe tbody tr th:only-of-type {\n",
              "        vertical-align: middle;\n",
              "    }\n",
              "\n",
              "    .dataframe tbody tr th {\n",
              "        vertical-align: top;\n",
              "    }\n",
              "\n",
              "    .dataframe thead th {\n",
              "        text-align: right;\n",
              "    }\n",
              "</style>\n",
              "<table border=\"1\" class=\"dataframe\">\n",
              "  <thead>\n",
              "    <tr style=\"text-align: right;\">\n",
              "      <th></th>\n",
              "      <th>Unnamed: 0</th>\n",
              "      <th>country</th>\n",
              "      <th>description</th>\n",
              "      <th>designation</th>\n",
              "      <th>points</th>\n",
              "      <th>price</th>\n",
              "      <th>province</th>\n",
              "      <th>region_1</th>\n",
              "      <th>region_2</th>\n",
              "      <th>variety</th>\n",
              "      <th>winery</th>\n",
              "      <th>taster_name</th>\n",
              "      <th>taster_twitter_handle</th>\n",
              "      <th>title</th>\n",
              "    </tr>\n",
              "  </thead>\n",
              "  <tbody>\n",
              "    <tr>\n",
              "      <th>0</th>\n",
              "      <td>0</td>\n",
              "      <td>US</td>\n",
              "      <td>This tremendous 100% varietal wine hails from ...</td>\n",
              "      <td>Martha's Vineyard</td>\n",
              "      <td>96</td>\n",
              "      <td>235.0</td>\n",
              "      <td>California</td>\n",
              "      <td>Napa Valley</td>\n",
              "      <td>Napa</td>\n",
              "      <td>Cabernet Sauvignon</td>\n",
              "      <td>Heitz</td>\n",
              "      <td>NaN</td>\n",
              "      <td>NaN</td>\n",
              "      <td>NaN</td>\n",
              "    </tr>\n",
              "    <tr>\n",
              "      <th>3</th>\n",
              "      <td>3</td>\n",
              "      <td>US</td>\n",
              "      <td>This spent 20 months in 30% new French oak, an...</td>\n",
              "      <td>Reserve</td>\n",
              "      <td>96</td>\n",
              "      <td>65.0</td>\n",
              "      <td>Oregon</td>\n",
              "      <td>Willamette Valley</td>\n",
              "      <td>Willamette Valley</td>\n",
              "      <td>Pinot Noir</td>\n",
              "      <td>Ponzi</td>\n",
              "      <td>NaN</td>\n",
              "      <td>NaN</td>\n",
              "      <td>NaN</td>\n",
              "    </tr>\n",
              "    <tr>\n",
              "      <th>8</th>\n",
              "      <td>8</td>\n",
              "      <td>US</td>\n",
              "      <td>This re-named vineyard was formerly bottled as...</td>\n",
              "      <td>Silice</td>\n",
              "      <td>95</td>\n",
              "      <td>65.0</td>\n",
              "      <td>Oregon</td>\n",
              "      <td>Chehalem Mountains</td>\n",
              "      <td>Willamette Valley</td>\n",
              "      <td>Pinot Noir</td>\n",
              "      <td>Bergström</td>\n",
              "      <td>NaN</td>\n",
              "      <td>NaN</td>\n",
              "      <td>NaN</td>\n",
              "    </tr>\n",
              "    <tr>\n",
              "      <th>9</th>\n",
              "      <td>9</td>\n",
              "      <td>US</td>\n",
              "      <td>The producer sources from two blocks of the vi...</td>\n",
              "      <td>Gap's Crown Vineyard</td>\n",
              "      <td>95</td>\n",
              "      <td>60.0</td>\n",
              "      <td>California</td>\n",
              "      <td>Sonoma Coast</td>\n",
              "      <td>Sonoma</td>\n",
              "      <td>Pinot Noir</td>\n",
              "      <td>Blue Farm</td>\n",
              "      <td>NaN</td>\n",
              "      <td>NaN</td>\n",
              "      <td>NaN</td>\n",
              "    </tr>\n",
              "    <tr>\n",
              "      <th>11</th>\n",
              "      <td>11</td>\n",
              "      <td>US</td>\n",
              "      <td>From 18-year-old vines, this supple well-balan...</td>\n",
              "      <td>Estate Vineyard Wadensvil Block</td>\n",
              "      <td>95</td>\n",
              "      <td>48.0</td>\n",
              "      <td>Oregon</td>\n",
              "      <td>Ribbon Ridge</td>\n",
              "      <td>Willamette Valley</td>\n",
              "      <td>Pinot Noir</td>\n",
              "      <td>Patricia Green Cellars</td>\n",
              "      <td>NaN</td>\n",
              "      <td>NaN</td>\n",
              "      <td>NaN</td>\n",
              "    </tr>\n",
              "  </tbody>\n",
              "</table>\n",
              "</div>"
            ],
            "text/plain": [
              "    Unnamed: 0 country  ... taster_twitter_handle title\n",
              "0            0      US  ...                   NaN   NaN\n",
              "3            3      US  ...                   NaN   NaN\n",
              "8            8      US  ...                   NaN   NaN\n",
              "9            9      US  ...                   NaN   NaN\n",
              "11          11      US  ...                   NaN   NaN\n",
              "\n",
              "[5 rows x 14 columns]"
            ]
          },
          "metadata": {
            "tags": []
          },
          "execution_count": 19
        }
      ]
    },
    {
      "cell_type": "markdown",
      "metadata": {
        "id": "ZIqJOK2pX955"
      },
      "source": [
        "# Predicting the price of the wine based on sensory points"
      ]
    },
    {
      "cell_type": "markdown",
      "metadata": {
        "id": "_pnxiKXw9PQC"
      },
      "source": [
        "From the wine reviews data, we can create a model for price against points(sensory points). We use Linear Regression to create the model.\n",
        "\n"
      ]
    },
    {
      "cell_type": "code",
      "metadata": {
        "colab": {
          "base_uri": "https://localhost:8080/",
          "height": 346
        },
        "id": "Qt3wy2ll8eWE",
        "outputId": "56a29d8d-0b1d-435a-b303-e026187ac348"
      },
      "source": [
        "from sklearn.linear_model import LinearRegression,LogisticRegression,  BayesianRidge\n",
        "from sklearn.model_selection import train_test_split\n",
        "from sklearn import metrics\n",
        "\n",
        "x = white[['points']]\n",
        "y = white[['price']]\n",
        "\n",
        "x_train,x_test,y_train,y_test = train_test_split(x,y,test_size=0.3)\n",
        "model_price_white = LinearRegression()\n",
        "model_price_white.fit(x_train,y_train)\n",
        "y_pred = model_price_white.predict(x_test)\n",
        "r =metrics.mean_squared_error(y_test,y_pred)\n",
        "print(\"white wine::\")\n",
        "print(\"MEAN SQUARE ERROR: \", r)\n",
        "print(\"ROOT MEAN SQUARE ERROR: \",np.sqrt(r))\n",
        "\n",
        "pit.scatter(x,y)\n",
        "pit.xlabel('quality points')\n",
        "pit.ylabel('price')\n",
        "pit.title('Price determined from Quality points for white wine')\n",
        "pit.show()\n"
      ],
      "execution_count": null,
      "outputs": [
        {
          "output_type": "stream",
          "text": [
            "white wine::\n",
            "MEAN SQUARE ERROR:  944.2000430481853\n",
            "ROOT MEAN SQUARE ERROR:  30.727838242352572\n"
          ],
          "name": "stdout"
        },
        {
          "output_type": "display_data",
          "data": {
            "image/png": "[encoded data removed]",
            "text/plain": [
              "<Figure size 432x288 with 1 Axes>"
            ]
          },
          "metadata": {
            "tags": [],
            "needs_background": "light"
          }
        }
      ]
    },
    {
      "cell_type": "code",
      "metadata": {
        "colab": {
          "base_uri": "https://localhost:8080/",
          "height": 346
        },
        "id": "1SJipH37RWDn",
        "outputId": "8da413a6-cee6-4baa-b0b1-c4d7029ff315"
      },
      "source": [
        "x = red[['points']]\n",
        "y = red[['price']]\n",
        "\n",
        "x_train,x_test,y_train,y_test = train_test_split(x,y,test_size=0.3)\n",
        "model_price_red = LinearRegression()\n",
        "model_price_red.fit(x_train,y_train)\n",
        "y_pred = model_price_red.predict(x_test)\n",
        "r =metrics.mean_squared_error(y_test,y_pred)\n",
        "print(\"red wine::\")\n",
        "print(\"MEAN SQUARE ERROR: \", r)\n",
        "print(\"ROOT MEAN SQUARE ERROR: \",np.sqrt(r))\n",
        "\n",
        "pit.scatter(x,y,color='r')\n",
        "pit.xlabel('quality points')\n",
        "pit.ylabel('price')\n",
        "pit.title('Price determined from Quality points for red wine')\n",
        "pit.show()"
      ],
      "execution_count": null,
      "outputs": [
        {
          "output_type": "stream",
          "text": [
            "red wine::\n",
            "MEAN SQUARE ERROR:  896.0642582550809\n",
            "ROOT MEAN SQUARE ERROR:  29.934332433763757\n"
          ],
          "name": "stdout"
        },
        {
          "output_type": "display_data",
          "data": {
            "image/png": "[encoded data removed]",
            "text/plain": [
              "<Figure size 432x288 with 1 Axes>"
            ]
          },
          "metadata": {
            "tags": [],
            "needs_background": "light"
          }
        }
      ]
    },
    {
      "cell_type": "markdown",
      "metadata": {
        "id": "xZrS1Jrv_aZ1"
      },
      "source": [
        "Now finding the unknown price of the wine in the wine quality dataset."
      ]
    },
    {
      "cell_type": "code",
      "metadata": {
        "colab": {
          "base_uri": "https://localhost:8080/"
        },
        "id": "Tt2bZiBCUi-M",
        "outputId": "4683d420-6926-4bca-d3b4-16dbac63ce7b"
      },
      "source": [
        "white_wine['price']=model_price_white.predict(np.array(white_wine['points']).reshape(-1,1))\n",
        "red_wine['price']=model_price_red.predict(np.array(red_wine['points']).reshape(-1,1))"
      ],
      "execution_count": null,
      "outputs": [
        {
          "output_type": "stream",
          "text": [
            "/usr/local/lib/python3.6/dist-packages/ipykernel_launcher.py:1: SettingWithCopyWarning: \n",
            "A value is trying to be set on a copy of a slice from a DataFrame.\n",
            "Try using .loc[row_indexer,col_indexer] = value instead\n",
            "\n",
            "See the caveats in the documentation: https://pandas.pydata.org/pandas-docs/stable/user_guide/indexing.html#returning-a-view-versus-a-copy\n",
            "  \"\"\"Entry point for launching an IPython kernel.\n",
            "/usr/local/lib/python3.6/dist-packages/ipykernel_launcher.py:2: SettingWithCopyWarning: \n",
            "A value is trying to be set on a copy of a slice from a DataFrame.\n",
            "Try using .loc[row_indexer,col_indexer] = value instead\n",
            "\n",
            "See the caveats in the documentation: https://pandas.pydata.org/pandas-docs/stable/user_guide/indexing.html#returning-a-view-versus-a-copy\n",
            "  \n"
          ],
          "name": "stderr"
        }
      ]
    },
    {
      "cell_type": "markdown",
      "metadata": {
        "id": "3ZUZR0C5YXxw"
      },
      "source": [
        "# Estimation of quality based on chemical properties"
      ]
    },
    {
      "cell_type": "markdown",
      "metadata": {
        "id": "Kf5cS-UX_P4k"
      },
      "source": [
        "Now we focus on the wine chemical datasets. We train a classification algorithm (Random Forest) with all the chemical properties against the sensory quality. The reason we take the sensory quality as the target is that the wine's taste greatly depends on tose properties. The model for the white wine:"
      ]
    },
    {
      "cell_type": "code",
      "metadata": {
        "colab": {
          "base_uri": "https://localhost:8080/"
        },
        "id": "QmK9t7oNENX6",
        "outputId": "2878ebda-ff60-4830-a87b-07b18bf90891"
      },
      "source": [
        "from sklearn.ensemble import RandomForestClassifier\n",
        "import seaborn as sns\n",
        "\n",
        "x_white = white_wine[feature_names]\n",
        "y = white_wine['quality']\n",
        "x_white.fillna(0, inplace=True)\n"
      ],
      "execution_count": null,
      "outputs": [
        {
          "output_type": "stream",
          "text": [
            "/usr/local/lib/python3.6/dist-packages/pandas/core/frame.py:4327: SettingWithCopyWarning: \n",
            "A value is trying to be set on a copy of a slice from a DataFrame\n",
            "\n",
            "See the caveats in the documentation: https://pandas.pydata.org/pandas-docs/stable/user_guide/indexing.html#returning-a-view-versus-a-copy\n",
            "  downcast=downcast,\n"
          ],
          "name": "stderr"
        }
      ]
    },
    {
      "cell_type": "markdown",
      "metadata": {
        "id": "WLViHOTVEQxV"
      },
      "source": [
        "We split the dataset into train and test sets.\n",
        "    train sets: 70%\n",
        "    test sets: 30%"
      ]
    },
    {
      "cell_type": "code",
      "metadata": {
        "id": "cA7cyo95Wpw7"
      },
      "source": [
        "x_train,x_test,y_train,y_test = train_test_split(x_white,y,test_size=0.3)\n"
      ],
      "execution_count": null,
      "outputs": []
    },
    {
      "cell_type": "markdown",
      "metadata": {
        "id": "8GEkXfX1FAox"
      },
      "source": [
        "Training the model:"
      ]
    },
    {
      "cell_type": "code",
      "metadata": {
        "id": "f5qVcR-xExK8"
      },
      "source": [
        "model = RandomForestClassifier(n_estimators=10)\n",
        "model.fit(x_train,y_train)\n",
        "y_pred = model.predict(x_test)"
      ],
      "execution_count": null,
      "outputs": []
    },
    {
      "cell_type": "markdown",
      "metadata": {
        "id": "rteyL2RDGrpB"
      },
      "source": [
        "Finding the precission recall metrics and ploting the graph which gives the importance of each property."
      ]
    },
    {
      "cell_type": "code",
      "metadata": {
        "colab": {
          "base_uri": "https://localhost:8080/",
          "height": 533
        },
        "id": "_LXxHPDkE4XU",
        "outputId": "f0fb6b79-fe1e-475a-a00c-e7806c251ec4"
      },
      "source": [
        "print(\"PRECISION RECALL: \", metrics.recall_score(y_test,y_pred,average='weighted'))\n",
        "\n",
        "feature_imp = pd.Series(model.feature_importances_,index = feature_names).sort_values(ascending=False)\n",
        "print(feature_imp)\n",
        "\n",
        "sns.barplot(x=feature_imp,y=feature_imp.index)\n",
        "pit.xlabel('Properties importance score')\n",
        "pit.ylabel('Chemical Properties')\n",
        "pit.title('Visualizing Important Features for white wine')\n",
        "pit.legend()\n",
        "pit.show()"
      ],
      "execution_count": null,
      "outputs": [
        {
          "output_type": "stream",
          "text": [
            "No handles with labels found to put in legend.\n"
          ],
          "name": "stderr"
        },
        {
          "output_type": "stream",
          "text": [
            "PRECISION RECALL:  0.6482993197278911\n",
            "alcohol                 0.112106\n",
            "density                 0.104397\n",
            "volatile acidity        0.101165\n",
            "total sulfur dioxide    0.095481\n",
            "pH                      0.089375\n",
            "free sulfur dioxide     0.089096\n",
            "chlorides               0.087059\n",
            "citric acid             0.085571\n",
            "residual sugar          0.084038\n",
            "sulphates               0.076450\n",
            "fixed acidity           0.075261\n",
            "dtype: float64\n"
          ],
          "name": "stdout"
        },
        {
          "output_type": "display_data",
          "data": {
            "image/png": "[encoded data removed]",
            "text/plain": [
              "<Figure size 432x288 with 1 Axes>"
            ]
          },
          "metadata": {
            "tags": [],
            "needs_background": "light"
          }
        }
      ]
    },
    {
      "cell_type": "markdown",
      "metadata": {
        "id": "pslpKn1jHDxC"
      },
      "source": [
        "This is for red wine:"
      ]
    },
    {
      "cell_type": "code",
      "metadata": {
        "colab": {
          "base_uri": "https://localhost:8080/",
          "height": 638
        },
        "id": "DrJF2QV00CJe",
        "outputId": "e5434680-9768-472f-8e97-0eb2c63cb905"
      },
      "source": [
        "x_red = red_wine[feature_names]\n",
        "y = red_wine['quality']\n",
        "x_red.fillna(0, inplace=True)\n",
        "\n",
        "x_train,x_test,y_train,y_test = train_test_split(x_red,y,test_size=0.3)\n",
        "\n",
        "model = RandomForestClassifier(n_estimators=10)\n",
        "model.fit(x_train,y_train)\n",
        "y_pred = model.predict(x_test)\n",
        "\n",
        "print(\"PRECISION RECALL: \", metrics.recall_score(y_test,y_pred,average='weighted'))\n",
        "\n",
        "feature_imp = pd.Series(model.feature_importances_,index = feature_names).sort_values(ascending=False)\n",
        "print(feature_imp)\n",
        "\n",
        "sns.barplot(x=feature_imp,y=feature_imp.index)\n",
        "pit.xlabel('Properties importance score')\n",
        "pit.ylabel('Chemical Properties')\n",
        "pit.title('Visualizing Important Features for red wine')\n",
        "pit.legend()\n",
        "pit.show()"
      ],
      "execution_count": null,
      "outputs": [
        {
          "output_type": "stream",
          "text": [
            "/usr/local/lib/python3.6/dist-packages/pandas/core/frame.py:4327: SettingWithCopyWarning: \n",
            "A value is trying to be set on a copy of a slice from a DataFrame\n",
            "\n",
            "See the caveats in the documentation: https://pandas.pydata.org/pandas-docs/stable/user_guide/indexing.html#returning-a-view-versus-a-copy\n",
            "  downcast=downcast,\n",
            "No handles with labels found to put in legend.\n"
          ],
          "name": "stderr"
        },
        {
          "output_type": "stream",
          "text": [
            "PRECISION RECALL:  0.65\n",
            "alcohol                 0.142483\n",
            "sulphates               0.124314\n",
            "volatile acidity        0.097435\n",
            "total sulfur dioxide    0.092619\n",
            "chlorides               0.085496\n",
            "density                 0.085082\n",
            "citric acid             0.080705\n",
            "pH                      0.080183\n",
            "free sulfur dioxide     0.072347\n",
            "fixed acidity           0.071392\n",
            "residual sugar          0.067942\n",
            "dtype: float64\n"
          ],
          "name": "stdout"
        },
        {
          "output_type": "display_data",
          "data": {
            "image/png": "[encoded data removed]",
            "text/plain": [
              "<Figure size 432x288 with 1 Axes>"
            ]
          },
          "metadata": {
            "tags": [],
            "needs_background": "light"
          }
        }
      ]
    },
    {
      "cell_type": "markdown",
      "metadata": {
        "id": "vLD63f0wPCAV"
      },
      "source": [
        "Taking the first five important features from both red wine and white wine random forest models, to create a logistic regression model for predicting the quality."
      ]
    },
    {
      "cell_type": "code",
      "metadata": {
        "colab": {
          "base_uri": "https://localhost:8080/"
        },
        "id": "Km7S_Q7ALIg8",
        "outputId": "0a41b0be-1e5a-401a-ba2e-cee36eed7b17"
      },
      "source": [
        "feature = ['alcohol','density','volatile acidity','free sulfur dioxide','total sulfur dioxide','sulphates']\n",
        "x = white_wine[feature]\n",
        "y = white_wine['quality']\n",
        "x.fillna(0, inplace=True)\n",
        "\n",
        "model_white = LogisticRegression() #RandomForestClassifier(n_estimators=10)\n",
        "model_white.fit(x,y)\n",
        "\n",
        "x = red_wine[feature]\n",
        "y = red_wine['quality']\n",
        "x.fillna(0, inplace=True)\n",
        "\n",
        "model_red = LogisticRegression() #RandomForestClassifier(n_estimators=10)\n",
        "model_red.fit(x,y)"
      ],
      "execution_count": null,
      "outputs": [
        {
          "output_type": "stream",
          "text": [
            "/usr/local/lib/python3.6/dist-packages/pandas/core/frame.py:4327: SettingWithCopyWarning: \n",
            "A value is trying to be set on a copy of a slice from a DataFrame\n",
            "\n",
            "See the caveats in the documentation: https://pandas.pydata.org/pandas-docs/stable/user_guide/indexing.html#returning-a-view-versus-a-copy\n",
            "  downcast=downcast,\n",
            "/usr/local/lib/python3.6/dist-packages/sklearn/linear_model/_logistic.py:940: ConvergenceWarning: lbfgs failed to converge (status=1):\n",
            "STOP: TOTAL NO. of ITERATIONS REACHED LIMIT.\n",
            "\n",
            "Increase the number of iterations (max_iter) or scale the data as shown in:\n",
            "    https://scikit-learn.org/stable/modules/preprocessing.html\n",
            "Please also refer to the documentation for alternative solver options:\n",
            "    https://scikit-learn.org/stable/modules/linear_model.html#logistic-regression\n",
            "  extra_warning_msg=_LOGISTIC_SOLVER_CONVERGENCE_MSG)\n",
            "/usr/local/lib/python3.6/dist-packages/pandas/core/frame.py:4327: SettingWithCopyWarning: \n",
            "A value is trying to be set on a copy of a slice from a DataFrame\n",
            "\n",
            "See the caveats in the documentation: https://pandas.pydata.org/pandas-docs/stable/user_guide/indexing.html#returning-a-view-versus-a-copy\n",
            "  downcast=downcast,\n",
            "/usr/local/lib/python3.6/dist-packages/sklearn/linear_model/_logistic.py:940: ConvergenceWarning: lbfgs failed to converge (status=1):\n",
            "STOP: TOTAL NO. of ITERATIONS REACHED LIMIT.\n",
            "\n",
            "Increase the number of iterations (max_iter) or scale the data as shown in:\n",
            "    https://scikit-learn.org/stable/modules/preprocessing.html\n",
            "Please also refer to the documentation for alternative solver options:\n",
            "    https://scikit-learn.org/stable/modules/linear_model.html#logistic-regression\n",
            "  extra_warning_msg=_LOGISTIC_SOLVER_CONVERGENCE_MSG)\n"
          ],
          "name": "stderr"
        },
        {
          "output_type": "execute_result",
          "data": {
            "text/plain": [
              "LogisticRegression(C=1.0, class_weight=None, dual=False, fit_intercept=True,\n",
              "                   intercept_scaling=1, l1_ratio=None, max_iter=100,\n",
              "                   multi_class='auto', n_jobs=None, penalty='l2',\n",
              "                   random_state=None, solver='lbfgs', tol=0.0001, verbose=0,\n",
              "                   warm_start=False)"
            ]
          },
          "metadata": {
            "tags": []
          },
          "execution_count": 28
        }
      ]
    },
    {
      "cell_type": "markdown",
      "metadata": {
        "id": "6BFnDr44AVIo"
      },
      "source": [
        "Now lets find the quality based on this model for the wine quality datasets."
      ]
    },
    {
      "cell_type": "code",
      "metadata": {
        "colab": {
          "base_uri": "https://localhost:8080/"
        },
        "id": "EM4DfMg-Alm7",
        "outputId": "6cf6d08d-c938-4bb9-d25b-769b6858075b"
      },
      "source": [
        "white_wine['predicted quality'] = model_white.predict(x_white[feature])\n",
        "red_wine['predicted quality'] = model_red.predict(x_red[feature])"
      ],
      "execution_count": null,
      "outputs": [
        {
          "output_type": "stream",
          "text": [
            "/usr/local/lib/python3.6/dist-packages/ipykernel_launcher.py:1: SettingWithCopyWarning: \n",
            "A value is trying to be set on a copy of a slice from a DataFrame.\n",
            "Try using .loc[row_indexer,col_indexer] = value instead\n",
            "\n",
            "See the caveats in the documentation: https://pandas.pydata.org/pandas-docs/stable/user_guide/indexing.html#returning-a-view-versus-a-copy\n",
            "  \"\"\"Entry point for launching an IPython kernel.\n",
            "/usr/local/lib/python3.6/dist-packages/ipykernel_launcher.py:2: SettingWithCopyWarning: \n",
            "A value is trying to be set on a copy of a slice from a DataFrame.\n",
            "Try using .loc[row_indexer,col_indexer] = value instead\n",
            "\n",
            "See the caveats in the documentation: https://pandas.pydata.org/pandas-docs/stable/user_guide/indexing.html#returning-a-view-versus-a-copy\n",
            "  \n"
          ],
          "name": "stderr"
        }
      ]
    },
    {
      "cell_type": "markdown",
      "metadata": {
        "id": "LNKxzZyBYjoy"
      },
      "source": [
        "#Determining the price for the estimated quality"
      ]
    },
    {
      "cell_type": "markdown",
      "metadata": {
        "id": "Fw4RN46SANGg"
      },
      "source": [
        "We use the same model(Linear regression) that was trained with points and price for calculating the price again. Before we use the model, first lets convert the quality predicted from the scale of 0-10 to 0-100 scale. This is for white wine:"
      ]
    },
    {
      "cell_type": "code",
      "metadata": {
        "colab": {
          "base_uri": "https://localhost:8080/"
        },
        "id": "QUFXXWrICun6",
        "outputId": "1609f104-69d2-440d-8d4a-3f824c80ecf8"
      },
      "source": [
        "white_wine['predicted points'] = (((white_wine['predicted quality'] - old_min) * (new_max - new_min)) / (old_max - old_min)) + new_min\n",
        "white_wine['predicted price'] = model_price_white.predict(white_wine[['predicted points']])"
      ],
      "execution_count": null,
      "outputs": [
        {
          "output_type": "stream",
          "text": [
            "/usr/local/lib/python3.6/dist-packages/ipykernel_launcher.py:1: SettingWithCopyWarning: \n",
            "A value is trying to be set on a copy of a slice from a DataFrame.\n",
            "Try using .loc[row_indexer,col_indexer] = value instead\n",
            "\n",
            "See the caveats in the documentation: https://pandas.pydata.org/pandas-docs/stable/user_guide/indexing.html#returning-a-view-versus-a-copy\n",
            "  \"\"\"Entry point for launching an IPython kernel.\n",
            "/usr/local/lib/python3.6/dist-packages/ipykernel_launcher.py:2: SettingWithCopyWarning: \n",
            "A value is trying to be set on a copy of a slice from a DataFrame.\n",
            "Try using .loc[row_indexer,col_indexer] = value instead\n",
            "\n",
            "See the caveats in the documentation: https://pandas.pydata.org/pandas-docs/stable/user_guide/indexing.html#returning-a-view-versus-a-copy\n",
            "  \n"
          ],
          "name": "stderr"
        }
      ]
    },
    {
      "cell_type": "markdown",
      "metadata": {
        "id": "X86TlD9nAZvT"
      },
      "source": [
        "This is for red wine:"
      ]
    },
    {
      "cell_type": "code",
      "metadata": {
        "colab": {
          "base_uri": "https://localhost:8080/"
        },
        "id": "nzPXjX1cEQmA",
        "outputId": "314fee42-879b-4010-dae5-42c3dc658e7c"
      },
      "source": [
        "red_wine['predicted points'] = (((red_wine['predicted quality'] - old_min) * (new_max - new_min)) / (old_max - old_min)) + new_min\n",
        "red_wine['predicted price'] = model_price_red.predict(red_wine[['predicted points']])"
      ],
      "execution_count": null,
      "outputs": [
        {
          "output_type": "stream",
          "text": [
            "/usr/local/lib/python3.6/dist-packages/ipykernel_launcher.py:1: SettingWithCopyWarning: \n",
            "A value is trying to be set on a copy of a slice from a DataFrame.\n",
            "Try using .loc[row_indexer,col_indexer] = value instead\n",
            "\n",
            "See the caveats in the documentation: https://pandas.pydata.org/pandas-docs/stable/user_guide/indexing.html#returning-a-view-versus-a-copy\n",
            "  \"\"\"Entry point for launching an IPython kernel.\n",
            "/usr/local/lib/python3.6/dist-packages/ipykernel_launcher.py:2: SettingWithCopyWarning: \n",
            "A value is trying to be set on a copy of a slice from a DataFrame.\n",
            "Try using .loc[row_indexer,col_indexer] = value instead\n",
            "\n",
            "See the caveats in the documentation: https://pandas.pydata.org/pandas-docs/stable/user_guide/indexing.html#returning-a-view-versus-a-copy\n",
            "  \n"
          ],
          "name": "stderr"
        }
      ]
    },
    {
      "cell_type": "markdown",
      "metadata": {
        "id": "9Qnc6NdRAuJR"
      },
      "source": [
        "# Comparing the results"
      ]
    },
    {
      "cell_type": "code",
      "metadata": {
        "colab": {
          "base_uri": "https://localhost:8080/",
          "height": 526
        },
        "id": "8LQCOpxJUtg7",
        "outputId": "73bf49ae-a27e-43a9-c8df-0dc06aef6052"
      },
      "source": [
        "total_price_white = sum(white_wine['price'])\n",
        "total_price_red = sum(red_wine['price'])\n",
        "total_price = total_price_white + total_price_red\n",
        "\n",
        "print('Predicted price from sensory points')\n",
        "print(\"Total price for white wine: \", \"{0:.2f}\".format(total_price_white))\n",
        "print(\"Total price for red wine: \", \"{0:.2f}\".format(total_price_red))\n",
        "print(\"Total price : \", \"{0:.2f}\".format(total_price))\n",
        "\n",
        "\n",
        "predicted_total_price_white = sum(white_wine['predicted price'])\n",
        "predicted_total_price_red = sum(red_wine['predicted price'])\n",
        "predicted_total_price = predicted_total_price_white + predicted_total_price_red\n",
        "\n",
        "print('Predicted price from chemical analysis')\n",
        "print(\"Total predicted price for white wine: \", \"{0:.2f}\".format(predicted_total_price_white))\n",
        "print(\"Total predicted price for red wine: \", \"{0:.2f}\".format(predicted_total_price_red))\n",
        "print(\"Total predicted price : \", \"{0:.2f}\".format(predicted_total_price))\n",
        "\n",
        "barWidth = 0.2\n",
        "pit.figure(figsize=(8, 6))\n",
        "r1 = np.arange(3)\n",
        "r2 = [x + barWidth for x in r1]\n",
        "pit.bar(r1, [total_price_white,total_price_red,total_price], width = barWidth, color = 'blue', edgecolor = 'black',label='Predicted price from sensory points')\n",
        "pit.bar(r2, [predicted_total_price_white,predicted_total_price_red,predicted_total_price], width = barWidth, color = 'cyan', edgecolor = 'black', label='Predicted price from chemical analysis')\n",
        "pit.xticks([r + barWidth for r in range(3)], ['white wine','red wine','total'])\n",
        "pit.ylabel('Price')\n",
        "pit.title('Comparing the price calculated from sensory points and estmated quality points from chemical analysis')\n",
        "pit.legend()\n",
        "pit.show()"
      ],
      "execution_count": null,
      "outputs": [
        {
          "output_type": "stream",
          "text": [
            "Predicted price from sensory points\n",
            "Total price for white wine:  176732.38\n",
            "Total price for red wine:  81980.73\n",
            "Total price :  258713.11\n",
            "Predicted price from chemical analysis\n",
            "Total predicted price for white wine:  216863.16\n",
            "Total predicted price for red wine:  78370.59\n",
            "Total predicted price :  295233.75\n"
          ],
          "name": "stdout"
        },
        {
          "output_type": "display_data",
          "data": {
            "image/png": "[encoded data removed]",
            "text/plain": [
              "<Figure size 576x432 with 1 Axes>"
            ]
          },
          "metadata": {
            "tags": [],
            "needs_background": "light"
          }
        }
      ]
    },
    {
      "cell_type": "markdown",
      "metadata": {
        "id": "nSyD6Lb-X4vb"
      },
      "source": [
        "From the above, we can say that the wine makers can have a profit for white wine and loss for red wine, but has a total profit."
      ]
    },
    {
      "cell_type": "code",
      "metadata": {
        "colab": {
          "base_uri": "https://localhost:8080/"
        },
        "id": "hxrklQBnYp5r",
        "outputId": "c262472e-7faa-42ca-ad31-b8d443d62501"
      },
      "source": [
        "print('Profit gained for white wine: ',((predicted_total_price_white-total_price_white)/total_price)*100,\"%\")\n",
        "print('Loss gained for red wine: ',((total_price_red-predicted_total_price_red)/total_price)*100,\"%\")\n",
        "print('Total Profit gained: ',((predicted_total_price-total_price)/total_price)*100,\"%\")"
      ],
      "execution_count": null,
      "outputs": [
        {
          "output_type": "stream",
          "text": [
            "Profit gained for white wine:  15.511693484572229 %\n",
            "Loss gained for red wine:  1.3954229848323887 %\n",
            "Total Profit gained:  14.116270499739855 %\n"
          ],
          "name": "stdout"
        }
      ]
    },
    {
      "cell_type": "markdown",
      "metadata": {
        "id": "mCSdIjk5mXe7"
      },
      "source": [
        "# Conclusion"
      ]
    },
    {
      "cell_type": "markdown",
      "metadata": {
        "id": "Qdx_D5hYmixT"
      },
      "source": [
        "Sensory points are awarded by tasting the wine. This is not standard and will vary among many tasters. Hence estimating its quality from the sensory points is not accurate.\n",
        "\n",
        "Our method estimates the quality from the chemical properties, which even the computer can calculate.The price can be changed accourding to the winery, if they can train the computer with their own quality vs price datasets."
      ]
    },
    {
      "cell_type": "markdown",
      "metadata": {
        "id": "w7tCFfYJohBy"
      },
      "source": [
        "# References"
      ]
    },
    {
      "cell_type": "markdown",
      "metadata": {
        "id": "T5GtZk6Pooab"
      },
      "source": [
        "\n",
        "\n",
        "1.   [Red and White Wine Analysis](https://https://rstudio-pubs-static.s3.amazonaws.com/98369_7d87780667b74901af21ff93c1c1e1db.html), by Ian Xiao on June 27, 2015\n",
        "2.  [Correlating Wine Quality Indicators to Chemical and Sensory](https://www.mdpi.com/1420-3049/20/5/8453/pdf\n",
        ")by Helene Hopfer, Jenny Nelson, Susan E. Ebeler and Hildegarde Heymann on Molecules 2015, 20\n",
        "3.[ How to Choose a Good Wine](https://www.marketviewliquor.com/blog/2018/08/how-to-choose-a-good-wine/)\n",
        "\n",
        "**Datasets:**\n",
        "\n",
        "\n",
        "1.   [Wine Quality dataset](https://www.kaggle.com/rajyellow46/wine-quality) downloaded from kaggle provided by Raj Kumar\n",
        "2.  [Wine Review](https://www.kaggle.com/zynicide/wine-reviews) downloaded from kaggle provided by zackthout\n",
        "\n",
        "\n",
        "\n",
        "\n",
        "\n"
      ]
    }
  ]
}